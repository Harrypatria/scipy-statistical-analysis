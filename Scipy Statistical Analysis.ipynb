{
  "cells": [
    {
      "cell_type": "markdown",
      "source": [
        "<font color=\"white\">.</font> | <font color=\"white\">.</font> | <font color=\"white\">.</font>\n",
        "-- | -- | --\n",
        "![NASA](https://media.licdn.com/dms/image/C560BAQGt_i7kDfJ1Sg/company-logo_200_200/0/1624812877012?e=1682553600&v=beta&t=kRNhTWBDTghUKz-6kWXjz5enuFdkkiWO4vdXBs_F17U) | <h1><font size=\"+7\">Statistical Analysis</font></h1> \n",
        "---\n",
        "\n",
        "<center>\n",
        "    <h1><font color=\"blue\">Scipy</font></h1>\n",
        "</center>"
      ],
      "metadata": {
        "id": "NlQ8lacD3LUE"
      }
    },
    {
      "cell_type": "code",
      "source": [
        "#@title format setting\n",
        "%%html\n",
        "<!DOCTYPE html>\n",
        "<html lang=\"en\">\n",
        "  <head> </head>\n",
        "  <body>\n",
        "<script src=\"https://bot.voiceatlas.mysmce.com/v1/chatlas.js\"></script>\n",
        "<app-chatlas\n",
        "\tatlas-id=\"f759a188-f8bb-46bb-9046-3b1b961bd6aa\"\n",
        "\twidget-background-color=\"#3f51b5ff\"\n",
        "\twidget-text-color=\"#ffffffff\"\n",
        "\twidget-title=\"Chatlas\">\n",
        "</app-chatlas>\n",
        "  </body>\n",
        "</html"
      ],
      "metadata": {
        "colab": {
          "base_uri": "https://localhost:8080/",
          "height": 17
        },
        "cellView": "form",
        "id": "B-YkUAQL3iyq",
        "outputId": "8293c47c-0c57-445a-8754-be182308e55a"
      },
      "execution_count": 97,
      "outputs": [
        {
          "output_type": "display_data",
          "data": {
            "text/plain": [
              "<IPython.core.display.HTML object>"
            ],
            "text/html": [
              "<!DOCTYPE html>\n",
              "<html lang=\"en\">\n",
              "  <head> </head>\n",
              "  <body>\n",
              "<script src=\"https://bot.voiceatlas.mysmce.com/v1/chatlas.js\"></script>\n",
              "<app-chatlas\n",
              "\tatlas-id=\"f759a188-f8bb-46bb-9046-3b1b961bd6aa\"\n",
              "\twidget-background-color=\"#3f51b5ff\"\n",
              "\twidget-text-color=\"#ffffffff\"\n",
              "\twidget-title=\"Chatlas\">\n",
              "</app-chatlas>\n",
              "  </body>\n",
              "</html\n"
            ]
          },
          "metadata": {}
        }
      ]
    },
    {
      "cell_type": "markdown",
      "metadata": {
        "id": "7R0_UbVAvR7g"
      },
      "source": [
        "# Statistical Data Modeling\n",
        "\n",
        "Some or most of you have probably taken some undergraduate- or graduate-level statistics courses. Unfortunately, the curricula for most introductory statisics courses are mostly focused on conducting **statistical hypothesis tests** as the primary means for interest: t-tests, chi-squared tests, analysis of variance, etc. Such tests seek to esimate whether groups or effects are \"statistically significant\", a concept that is poorly understood, and hence often misused, by most practioners. Even when interpreted correctly, statistical significance is a questionable goal for statistical inference, as it is of limited utility.\n",
        "\n",
        "A far more powerful approach to statistical analysis involves building flexible **models** with the overarching aim of *estimating* quantities of interest. This section of the tutorial illustrates how to use Python to build statistical models of low to moderate difficulty from scratch, and use them to extract estimates and associated measures of uncertainty."
      ]
    },
    {
      "cell_type": "code",
      "execution_count": 7,
      "metadata": {
        "id": "DIKjL_SMvR7i"
      },
      "outputs": [],
      "source": [
        "%matplotlib inline\n",
        "import numpy as np\n",
        "import pandas as pd\n",
        "import matplotlib.pyplot as plt\n",
        "\n",
        "# Set some Pandas options\n",
        "pd.set_option('display.notebook_repr_html', False)\n",
        "pd.set_option('display.max_columns', 20)\n",
        "pd.set_option('display.max_rows', 25)"
      ]
    },
    {
      "cell_type": "markdown",
      "metadata": {
        "id": "GGq8b1xAvR7j"
      },
      "source": [
        "Estimation\n",
        "==========\n",
        "\n",
        "An recurring statistical problem is finding estimates of the relevant parameters that correspond to the distribution that best represents our data.\n",
        "\n",
        "In **parametric** inference, we specify *a priori* a suitable distribution, then choose the parameters that best fit the data.\n",
        "\n",
        "* e.g. $\\mu$ and $\\sigma^2$ in the case of the normal distribution"
      ]
    },
    {
      "cell_type": "code",
      "execution_count": 2,
      "metadata": {
        "colab": {
          "base_uri": "https://localhost:8080/",
          "height": 265
        },
        "id": "gCA7FIlxvR7j",
        "outputId": "8d11a331-466a-4e3c-87ba-7e121284385d"
      },
      "outputs": [
        {
          "output_type": "display_data",
          "data": {
            "text/plain": [
              "<Figure size 432x288 with 1 Axes>"
            ],
            "image/png": "[encoded data removed]"
          },
          "metadata": {
            "needs_background": "light"
          }
        }
      ],
      "source": [
        "x = np.array([ 1.00201077,  1.58251956,  0.94515919,  6.48778002,  1.47764604,\n",
        "        5.18847071,  4.21988095,  2.85971522,  3.40044437,  3.74907745,\n",
        "        1.18065796,  3.74748775,  3.27328568,  3.19374927,  8.0726155 ,\n",
        "        0.90326139,  2.34460034,  2.14199217,  3.27446744,  3.58872357,\n",
        "        1.20611533,  2.16594393,  5.56610242,  4.66479977,  2.3573932 ])\n",
        "_ = plt.hist(x, bins=8)"
      ]
    },
    {
      "cell_type": "markdown",
      "metadata": {
        "id": "CPDThIcYvR7k"
      },
      "source": [
        "### Fitting data to probability distributions\n",
        "\n",
        "We start with the problem of finding values for the parameters that provide the best fit between the model and the data, called point estimates. First, we need to define what we mean by ‘best fit’. There are two commonly used criteria:\n",
        "\n",
        "* **Method of moments** chooses the parameters so that the sample moments (typically the sample mean and variance) match the theoretical moments of our chosen distribution.\n",
        "* **Maximum likelihood** chooses the parameters to maximize the likelihood, which measures how likely it is to observe our given sample."
      ]
    },
    {
      "cell_type": "markdown",
      "metadata": {
        "id": "fyfR3pRDvR7l"
      },
      "source": [
        "### Discrete Random Variables\n",
        "\n",
        "$$X = \\{0,1\\}$$\n",
        "\n",
        "$$Y = \\{\\ldots,-2,-1,0,1,2,\\ldots\\}$$\n",
        "\n",
        "**Probability Mass Function**: \n",
        "\n",
        "For discrete $X$,\n",
        "\n",
        "$$Pr(X=x) = f(x|\\theta)$$\n",
        "\n",
        "![Discrete variable](http://upload.wikimedia.org/wikipedia/commons/1/16/Poisson_pmf.svg)"
      ]
    },
    {
      "cell_type": "markdown",
      "metadata": {
        "id": "HcCRepn2vR7l"
      },
      "source": [
        "***e.g. Poisson distribution***\n",
        "\n",
        "The Poisson distribution models unbounded counts:\n",
        "\n",
        "<div style=\"font-size: 150%;\">  \n",
        "$$Pr(X=x)=\\frac{e^{-\\lambda}\\lambda^x}{x!}$$\n",
        "</div>\n",
        "\n",
        "* $X=\\{0,1,2,\\ldots\\}$\n",
        "* $\\lambda > 0$\n",
        "\n",
        "$$E(X) = \\text{Var}(X) = \\lambda$$"
      ]
    },
    {
      "cell_type": "markdown",
      "metadata": {
        "id": "tF_aBildvR7l"
      },
      "source": [
        "### Continuous Random Variables\n",
        "\n",
        "$$X \\in [0,1]$$\n",
        "\n",
        "$$Y \\in (-\\infty, \\infty)$$\n",
        "\n",
        "**Probability Density Function**: \n",
        "\n",
        "For continuous $X$,\n",
        "\n",
        "$$Pr(x \\le X \\le x + dx) = f(x|\\theta)dx \\, \\text{ as } \\, dx \\rightarrow 0$$\n",
        "\n",
        "![Continuous variable](http://upload.wikimedia.org/wikipedia/commons/e/ec/Exponential_pdf.svg)"
      ]
    },
    {
      "cell_type": "markdown",
      "metadata": {
        "id": "R58XNpdnvR7l"
      },
      "source": [
        "***e.g. normal distribution***\n",
        "\n",
        "<div style=\"font-size: 150%;\">  \n",
        "$$f(x) = \\frac{1}{\\sqrt{2\\pi\\sigma^2}}\\exp\\left[-\\frac{(x-\\mu)^2}{2\\sigma^2}\\right]$$\n",
        "</div>\n",
        "\n",
        "* $X \\in \\mathbf{R}$\n",
        "* $\\mu \\in \\mathbf{R}$\n",
        "* $\\sigma>0$\n",
        "\n",
        "$$\\begin{align}E(X) &= \\mu \\cr\n",
        "\\text{Var}(X) &= \\sigma^2 \\end{align}$$"
      ]
    },
    {
      "cell_type": "markdown",
      "metadata": {
        "id": "fEvK5blmvR7l"
      },
      "source": [
        "### Example: Nashville Precipitation\n",
        "\n",
        "The dataset `nashville_precip.txt` contains [NOAA precipitation data for Nashville measured since 1871](http://bit.ly/nasvhville_precip_data). The gamma distribution is often a good fit to aggregated rainfall data, and will be our candidate distribution in this case."
      ]
    },
    {
      "cell_type": "code",
      "execution_count": 8,
      "metadata": {
        "colab": {
          "base_uri": "https://localhost:8080/",
          "height": 49
        },
        "id": "BX-pIwWLvR7m",
        "outputId": "ca70cc18-194a-4004-de62-571094a29d8a"
      },
      "outputs": [
        {
          "output_type": "execute_result",
          "data": {
            "text/plain": [
              "       Jan   Feb   Mar    Apr   May   Jun   Jul   Aug   Sep   Oct   Nov   Dec\n",
              "Year                                                                         \n",
              "1871  2.76  4.58  5.01   4.13  3.30  2.98  1.58  2.36  0.95  1.31  2.13  1.65\n",
              "1872  2.32  2.11  3.14   5.91  3.09  5.17  6.10  1.65  4.50  1.58  2.25  2.38\n",
              "1873  2.96  7.14  4.11   3.59  6.31  4.20  4.63  2.36  1.81  4.28  4.36  5.94\n",
              "1874  5.22  9.23  5.36  11.84  1.49  2.87  2.65  3.52  3.12  2.63  6.12  4.19\n",
              "1875  6.15  3.06  8.14   4.22  1.73  5.63  8.12  1.60  3.79  1.25  5.46  4.30"
            ],
            "text/html": [
              "\n",
              "  <div id=\"df-3cd10de7-3ab5-495c-873b-b5f5f43ef919\">\n",
              "    <div class=\"colab-df-container\">\n",
              "      None\n",
              "      <button class=\"colab-df-convert\" onclick=\"convertToInteractive('df-3cd10de7-3ab5-495c-873b-b5f5f43ef919')\"\n",
              "              title=\"Convert this dataframe to an interactive table.\"\n",
              "              style=\"display:none;\">\n",
              "        \n",
              "  <svg xmlns=\"http://www.w3.org/2000/svg\" height=\"24px\"viewBox=\"0 0 24 24\"\n",
              "       width=\"24px\">\n",
              "    <path d=\"M0 0h24v24H0V0z\" fill=\"none\"/>\n",
              "    <path d=\"M18.56 5.44l.94 2.06.94-2.06 2.06-.94-2.06-.94-.94-2.06-.94 2.06-2.06.94zm-11 1L8.5 8.5l.94-2.06 2.06-.94-2.06-.94L8.5 2.5l-.94 2.06-2.06.94zm10 10l.94 2.06.94-2.06 2.06-.94-2.06-.94-.94-2.06-.94 2.06-2.06.94z\"/><path d=\"M17.41 7.96l-1.37-1.37c-.4-.4-.92-.59-1.43-.59-.52 0-1.04.2-1.43.59L10.3 9.45l-7.72 7.72c-.78.78-.78 2.05 0 2.83L4 21.41c.39.39.9.59 1.41.59.51 0 1.02-.2 1.41-.59l7.78-7.78 2.81-2.81c.8-.78.8-2.07 0-2.86zM5.41 20L4 18.59l7.72-7.72 1.47 1.35L5.41 20z\"/>\n",
              "  </svg>\n",
              "      </button>\n",
              "      \n",
              "  <style>\n",
              "    .colab-df-container {\n",
              "      display:flex;\n",
              "      flex-wrap:wrap;\n",
              "      gap: 12px;\n",
              "    }\n",
              "\n",
              "    .colab-df-convert {\n",
              "      background-color: #E8F0FE;\n",
              "      border: none;\n",
              "      border-radius: 50%;\n",
              "      cursor: pointer;\n",
              "      display: none;\n",
              "      fill: #1967D2;\n",
              "      height: 32px;\n",
              "      padding: 0 0 0 0;\n",
              "      width: 32px;\n",
              "    }\n",
              "\n",
              "    .colab-df-convert:hover {\n",
              "      background-color: #E2EBFA;\n",
              "      box-shadow: 0px 1px 2px rgba(60, 64, 67, 0.3), 0px 1px 3px 1px rgba(60, 64, 67, 0.15);\n",
              "      fill: #174EA6;\n",
              "    }\n",
              "\n",
              "    [theme=dark] .colab-df-convert {\n",
              "      background-color: #3B4455;\n",
              "      fill: #D2E3FC;\n",
              "    }\n",
              "\n",
              "    [theme=dark] .colab-df-convert:hover {\n",
              "      background-color: #434B5C;\n",
              "      box-shadow: 0px 1px 3px 1px rgba(0, 0, 0, 0.15);\n",
              "      filter: drop-shadow(0px 1px 2px rgba(0, 0, 0, 0.3));\n",
              "      fill: #FFFFFF;\n",
              "    }\n",
              "  </style>\n",
              "\n",
              "      <script>\n",
              "        const buttonEl =\n",
              "          document.querySelector('#df-3cd10de7-3ab5-495c-873b-b5f5f43ef919 button.colab-df-convert');\n",
              "        buttonEl.style.display =\n",
              "          google.colab.kernel.accessAllowed ? 'block' : 'none';\n",
              "\n",
              "        async function convertToInteractive(key) {\n",
              "          const element = document.querySelector('#df-3cd10de7-3ab5-495c-873b-b5f5f43ef919');\n",
              "          const dataTable =\n",
              "            await google.colab.kernel.invokeFunction('convertToInteractive',\n",
              "                                                     [key], {});\n",
              "          if (!dataTable) return;\n",
              "\n",
              "          const docLinkHtml = 'Like what you see? Visit the ' +\n",
              "            '<a target=\"_blank\" href=https://colab.research.google.com/notebooks/data_table.ipynb>data table notebook</a>'\n",
              "            + ' to learn more about interactive tables.';\n",
              "          element.innerHTML = '';\n",
              "          dataTable['output_type'] = 'display_data';\n",
              "          await google.colab.output.renderOutput(dataTable, element);\n",
              "          const docLink = document.createElement('div');\n",
              "          docLink.innerHTML = docLinkHtml;\n",
              "          element.appendChild(docLink);\n",
              "        }\n",
              "      </script>\n",
              "    </div>\n",
              "  </div>\n",
              "  "
            ]
          },
          "metadata": {},
          "execution_count": 8
        }
      ],
      "source": [
        "from google.colab import drive\n",
        "drive.mount('/content/drive')\n",
        "precip = pd.read_table(\"/content/drive/MyDrive/Colab Notebooks/Python MasterClass/scipy/nashville_precip.txt\", index_col=0, na_values='NA', delim_whitespace=True)\n",
        "precip.head()"
      ]
    },
    {
      "cell_type": "code",
      "execution_count": 9,
      "metadata": {
        "colab": {
          "base_uri": "https://localhost:8080/",
          "height": 297
        },
        "id": "q56-Y4c2vR7m",
        "outputId": "bade63db-59c3-4fdb-8ca9-4a4ab5c638aa"
      },
      "outputs": [
        {
          "output_type": "display_data",
          "data": {
            "text/plain": [
              "<Figure size 432x288 with 12 Axes>"
            ],
            "image/png": "[encoded data removed]"
          },
          "metadata": {
            "needs_background": "light"
          }
        }
      ],
      "source": [
        "_ = precip.hist(sharex=True, sharey=True, grid=False)\n",
        "plt.tight_layout()"
      ]
    },
    {
      "cell_type": "markdown",
      "metadata": {
        "id": "S0JKxNqEvR7m"
      },
      "source": [
        "The first step is recognixing what sort of distribution to fit our data to. A couple of observations:\n",
        "\n",
        "1. The data are skewed, with a longer tail to the right than to the left\n",
        "2. The data are positive-valued, since they are measuring rainfall\n",
        "3. The data are continuous\n",
        "\n",
        "There are a few possible choices, but one suitable alternative is the **gamma distribution**:\n",
        "\n",
        "<div style=\"font-size: 150%;\">  \n",
        "$$x \\sim \\text{Gamma}(\\alpha, \\beta) = \\frac{\\beta^{\\alpha}x^{\\alpha-1}e^{-\\beta x}}{\\Gamma(\\alpha)}$$\n",
        "</div>\n",
        "\n",
        "![gamma](http://upload.wikimedia.org/wikipedia/commons/thumb/e/e6/Gamma_distribution_pdf.svg/500px-Gamma_distribution_pdf.svg.png)"
      ]
    },
    {
      "cell_type": "markdown",
      "metadata": {
        "id": "WgNYCCcMvR7m"
      },
      "source": [
        "The ***method of moments*** simply assigns the empirical mean and variance to their theoretical counterparts, so that we can solve for the parameters.\n",
        "\n",
        "So, for the gamma distribution, the mean and variance are:\n",
        "\n",
        "<div style=\"font-size: 150%;\">  \n",
        "$$ \\hat{\\mu} = \\bar{X} = \\alpha \\beta $$\n",
        "$$ \\hat{\\sigma}^2 = S^2 = \\alpha \\beta^2 $$\n",
        "</div>"
      ]
    },
    {
      "cell_type": "markdown",
      "metadata": {
        "id": "JNVV-mrUvR7m"
      },
      "source": [
        "So, if we solve for these parameters, we can use a gamma distribution to describe our data:\n",
        "\n",
        "<div style=\"font-size: 150%;\">  \n",
        "$$ \\alpha = \\frac{\\bar{X}^2}{S^2}, \\, \\beta = \\frac{S^2}{\\bar{X}} $$\n",
        "</div>"
      ]
    },
    {
      "cell_type": "markdown",
      "metadata": {
        "id": "AwtrqGljvR7m"
      },
      "source": [
        "Let's deal with the missing value in the October data. Given what we are trying to do, it is most sensible to fill in the missing value with the average of the available values."
      ]
    },
    {
      "cell_type": "code",
      "execution_count": 10,
      "metadata": {
        "id": "zrrIjPiJvR7m"
      },
      "outputs": [],
      "source": [
        "precip.fillna(value={'Oct': precip.Oct.mean()}, inplace=True)"
      ]
    },
    {
      "cell_type": "markdown",
      "metadata": {
        "id": "FRWWPs5tvR7n"
      },
      "source": [
        "Now, let's calculate the sample moments of interest, the means and variances by month:"
      ]
    },
    {
      "cell_type": "code",
      "execution_count": 11,
      "metadata": {
        "colab": {
          "base_uri": "https://localhost:8080/"
        },
        "id": "8bPhgecTvR7n",
        "outputId": "215fa7c4-902d-44ff-b362-e5886fa13b25"
      },
      "outputs": [
        {
          "output_type": "execute_result",
          "data": {
            "text/plain": [
              "Jan    4.523688\n",
              "Feb    4.097801\n",
              "Mar    4.977589\n",
              "Apr    4.204468\n",
              "May    4.325674\n",
              "Jun    3.873475\n",
              "Jul    3.895461\n",
              "Aug    3.367305\n",
              "Sep    3.377660\n",
              "Oct    2.610500\n",
              "Nov    3.685887\n",
              "Dec    4.176241\n",
              "dtype: float64"
            ]
          },
          "metadata": {},
          "execution_count": 11
        }
      ],
      "source": [
        "precip_mean = precip.mean()\n",
        "precip_mean"
      ]
    },
    {
      "cell_type": "code",
      "execution_count": 12,
      "metadata": {
        "colab": {
          "base_uri": "https://localhost:8080/"
        },
        "id": "qV2yKr6uvR7n",
        "outputId": "cbe0632b-0e5d-4a4d-d883-2170331cb12f"
      },
      "outputs": [
        {
          "output_type": "execute_result",
          "data": {
            "text/plain": [
              "Jan    6.928862\n",
              "Feb    5.516660\n",
              "Mar    5.365444\n",
              "Apr    4.117096\n",
              "May    5.306409\n",
              "Jun    5.033206\n",
              "Jul    3.777012\n",
              "Aug    3.779876\n",
              "Sep    4.940099\n",
              "Oct    2.741659\n",
              "Nov    3.679274\n",
              "Dec    5.418022\n",
              "dtype: float64"
            ]
          },
          "metadata": {},
          "execution_count": 12
        }
      ],
      "source": [
        "precip_var = precip.var()\n",
        "precip_var"
      ]
    },
    {
      "cell_type": "markdown",
      "metadata": {
        "id": "SNbv54MwvR7n"
      },
      "source": [
        "We then use these moments to estimate $\\alpha$ and $\\beta$ for each month:"
      ]
    },
    {
      "cell_type": "code",
      "execution_count": 13,
      "metadata": {
        "id": "7EWRIVMNvR7n"
      },
      "outputs": [],
      "source": [
        "alpha_mom = precip_mean ** 2 / precip_var\n",
        "beta_mom = precip_var / precip_mean"
      ]
    },
    {
      "cell_type": "code",
      "execution_count": 14,
      "metadata": {
        "colab": {
          "base_uri": "https://localhost:8080/"
        },
        "id": "jE2vxDSXvR7n",
        "outputId": "47851f6a-6498-4ed2-a0bf-c2f2c978556f"
      },
      "outputs": [
        {
          "output_type": "execute_result",
          "data": {
            "text/plain": [
              "(Jan    2.953407\n",
              " Feb    3.043866\n",
              " Mar    4.617770\n",
              " Apr    4.293694\n",
              " May    3.526199\n",
              " Jun    2.980965\n",
              " Jul    4.017624\n",
              " Aug    2.999766\n",
              " Sep    2.309383\n",
              " Oct    2.485616\n",
              " Nov    3.692511\n",
              " Dec    3.219070\n",
              " dtype: float64, Jan    1.531684\n",
              " Feb    1.346249\n",
              " Mar    1.077920\n",
              " Apr    0.979219\n",
              " May    1.226724\n",
              " Jun    1.299403\n",
              " Jul    0.969593\n",
              " Aug    1.122522\n",
              " Sep    1.462581\n",
              " Oct    1.050243\n",
              " Nov    0.998206\n",
              " Dec    1.297344\n",
              " dtype: float64)"
            ]
          },
          "metadata": {},
          "execution_count": 14
        }
      ],
      "source": [
        "alpha_mom, beta_mom"
      ]
    },
    {
      "cell_type": "markdown",
      "metadata": {
        "id": "b2K5PLvBvR7n"
      },
      "source": [
        "We can use the `gamma.pdf` function in `scipy.stats.distributions` to plot the ditribtuions implied by the calculated alphas and betas. For example, here is January:"
      ]
    },
    {
      "cell_type": "code",
      "execution_count": 15,
      "metadata": {
        "colab": {
          "base_uri": "https://localhost:8080/",
          "height": 622
        },
        "id": "mwWch5T1vR7n",
        "outputId": "29c540c3-06fd-4af9-958e-842d4fa12f0a"
      },
      "outputs": [
        {
          "output_type": "error",
          "ename": "AttributeError",
          "evalue": "ignored",
          "traceback": [
            "\u001b[0;31m---------------------------------------------------------------------------\u001b[0m",
            "\u001b[0;31mAttributeError\u001b[0m                            Traceback (most recent call last)",
            "\u001b[0;32m<ipython-input-15-9c1f78bde85d>\u001b[0m in \u001b[0;36m<module>\u001b[0;34m\u001b[0m\n\u001b[1;32m      1\u001b[0m \u001b[0;32mfrom\u001b[0m \u001b[0mscipy\u001b[0m\u001b[0;34m.\u001b[0m\u001b[0mstats\u001b[0m\u001b[0;34m.\u001b[0m\u001b[0mdistributions\u001b[0m \u001b[0;32mimport\u001b[0m \u001b[0mgamma\u001b[0m\u001b[0;34m\u001b[0m\u001b[0;34m\u001b[0m\u001b[0m\n\u001b[1;32m      2\u001b[0m \u001b[0;34m\u001b[0m\u001b[0m\n\u001b[0;32m----> 3\u001b[0;31m \u001b[0mprecip\u001b[0m\u001b[0;34m.\u001b[0m\u001b[0mJan\u001b[0m\u001b[0;34m.\u001b[0m\u001b[0mhist\u001b[0m\u001b[0;34m(\u001b[0m\u001b[0mnormed\u001b[0m\u001b[0;34m=\u001b[0m\u001b[0;32mTrue\u001b[0m\u001b[0;34m,\u001b[0m \u001b[0mbins\u001b[0m\u001b[0;34m=\u001b[0m\u001b[0;36m20\u001b[0m\u001b[0;34m)\u001b[0m\u001b[0;34m\u001b[0m\u001b[0;34m\u001b[0m\u001b[0m\n\u001b[0m\u001b[1;32m      4\u001b[0m \u001b[0mplt\u001b[0m\u001b[0;34m.\u001b[0m\u001b[0mplot\u001b[0m\u001b[0;34m(\u001b[0m\u001b[0mnp\u001b[0m\u001b[0;34m.\u001b[0m\u001b[0mlinspace\u001b[0m\u001b[0;34m(\u001b[0m\u001b[0;36m0\u001b[0m\u001b[0;34m,\u001b[0m \u001b[0;36m10\u001b[0m\u001b[0;34m)\u001b[0m\u001b[0;34m,\u001b[0m \u001b[0mgamma\u001b[0m\u001b[0;34m.\u001b[0m\u001b[0mpdf\u001b[0m\u001b[0;34m(\u001b[0m\u001b[0mnp\u001b[0m\u001b[0;34m.\u001b[0m\u001b[0mlinspace\u001b[0m\u001b[0;34m(\u001b[0m\u001b[0;36m0\u001b[0m\u001b[0;34m,\u001b[0m \u001b[0;36m10\u001b[0m\u001b[0;34m)\u001b[0m\u001b[0;34m,\u001b[0m \u001b[0malpha_mom\u001b[0m\u001b[0;34m[\u001b[0m\u001b[0;36m0\u001b[0m\u001b[0;34m]\u001b[0m\u001b[0;34m,\u001b[0m \u001b[0mbeta_mom\u001b[0m\u001b[0;34m[\u001b[0m\u001b[0;36m0\u001b[0m\u001b[0;34m]\u001b[0m\u001b[0;34m)\u001b[0m\u001b[0;34m)\u001b[0m\u001b[0;34m\u001b[0m\u001b[0;34m\u001b[0m\u001b[0m\n",
            "\u001b[0;32m/usr/local/lib/python3.8/dist-packages/pandas/plotting/_core.py\u001b[0m in \u001b[0;36mhist_series\u001b[0;34m(self, by, ax, grid, xlabelsize, xrot, ylabelsize, yrot, figsize, bins, backend, legend, **kwargs)\u001b[0m\n\u001b[1;32m     98\u001b[0m     \"\"\"\n\u001b[1;32m     99\u001b[0m     \u001b[0mplot_backend\u001b[0m \u001b[0;34m=\u001b[0m \u001b[0m_get_plot_backend\u001b[0m\u001b[0;34m(\u001b[0m\u001b[0mbackend\u001b[0m\u001b[0;34m)\u001b[0m\u001b[0;34m\u001b[0m\u001b[0;34m\u001b[0m\u001b[0m\n\u001b[0;32m--> 100\u001b[0;31m     return plot_backend.hist_series(\n\u001b[0m\u001b[1;32m    101\u001b[0m         \u001b[0mself\u001b[0m\u001b[0;34m,\u001b[0m\u001b[0;34m\u001b[0m\u001b[0;34m\u001b[0m\u001b[0m\n\u001b[1;32m    102\u001b[0m         \u001b[0mby\u001b[0m\u001b[0;34m=\u001b[0m\u001b[0mby\u001b[0m\u001b[0;34m,\u001b[0m\u001b[0;34m\u001b[0m\u001b[0;34m\u001b[0m\u001b[0m\n",
            "\u001b[0;32m/usr/local/lib/python3.8/dist-packages/pandas/plotting/_matplotlib/hist.py\u001b[0m in \u001b[0;36mhist_series\u001b[0;34m(self, by, ax, grid, xlabelsize, xrot, ylabelsize, yrot, figsize, bins, legend, **kwds)\u001b[0m\n\u001b[1;32m    352\u001b[0m         \u001b[0;32mif\u001b[0m \u001b[0mlegend\u001b[0m\u001b[0;34m:\u001b[0m\u001b[0;34m\u001b[0m\u001b[0;34m\u001b[0m\u001b[0m\n\u001b[1;32m    353\u001b[0m             \u001b[0mkwds\u001b[0m\u001b[0;34m[\u001b[0m\u001b[0;34m\"label\"\u001b[0m\u001b[0;34m]\u001b[0m \u001b[0;34m=\u001b[0m \u001b[0mself\u001b[0m\u001b[0;34m.\u001b[0m\u001b[0mname\u001b[0m\u001b[0;34m\u001b[0m\u001b[0;34m\u001b[0m\u001b[0m\n\u001b[0;32m--> 354\u001b[0;31m         \u001b[0max\u001b[0m\u001b[0;34m.\u001b[0m\u001b[0mhist\u001b[0m\u001b[0;34m(\u001b[0m\u001b[0mvalues\u001b[0m\u001b[0;34m,\u001b[0m \u001b[0mbins\u001b[0m\u001b[0;34m=\u001b[0m\u001b[0mbins\u001b[0m\u001b[0;34m,\u001b[0m \u001b[0;34m**\u001b[0m\u001b[0mkwds\u001b[0m\u001b[0;34m)\u001b[0m\u001b[0;34m\u001b[0m\u001b[0;34m\u001b[0m\u001b[0m\n\u001b[0m\u001b[1;32m    355\u001b[0m         \u001b[0;32mif\u001b[0m \u001b[0mlegend\u001b[0m\u001b[0;34m:\u001b[0m\u001b[0;34m\u001b[0m\u001b[0;34m\u001b[0m\u001b[0m\n\u001b[1;32m    356\u001b[0m             \u001b[0max\u001b[0m\u001b[0;34m.\u001b[0m\u001b[0mlegend\u001b[0m\u001b[0;34m(\u001b[0m\u001b[0;34m)\u001b[0m\u001b[0;34m\u001b[0m\u001b[0;34m\u001b[0m\u001b[0m\n",
            "\u001b[0;32m/usr/local/lib/python3.8/dist-packages/matplotlib/__init__.py\u001b[0m in \u001b[0;36minner\u001b[0;34m(ax, data, *args, **kwargs)\u001b[0m\n\u001b[1;32m   1412\u001b[0m     \u001b[0;32mdef\u001b[0m \u001b[0minner\u001b[0m\u001b[0;34m(\u001b[0m\u001b[0max\u001b[0m\u001b[0;34m,\u001b[0m \u001b[0;34m*\u001b[0m\u001b[0margs\u001b[0m\u001b[0;34m,\u001b[0m \u001b[0mdata\u001b[0m\u001b[0;34m=\u001b[0m\u001b[0;32mNone\u001b[0m\u001b[0;34m,\u001b[0m \u001b[0;34m**\u001b[0m\u001b[0mkwargs\u001b[0m\u001b[0;34m)\u001b[0m\u001b[0;34m:\u001b[0m\u001b[0;34m\u001b[0m\u001b[0;34m\u001b[0m\u001b[0m\n\u001b[1;32m   1413\u001b[0m         \u001b[0;32mif\u001b[0m \u001b[0mdata\u001b[0m \u001b[0;32mis\u001b[0m \u001b[0;32mNone\u001b[0m\u001b[0;34m:\u001b[0m\u001b[0;34m\u001b[0m\u001b[0;34m\u001b[0m\u001b[0m\n\u001b[0;32m-> 1414\u001b[0;31m             \u001b[0;32mreturn\u001b[0m \u001b[0mfunc\u001b[0m\u001b[0;34m(\u001b[0m\u001b[0max\u001b[0m\u001b[0;34m,\u001b[0m \u001b[0;34m*\u001b[0m\u001b[0mmap\u001b[0m\u001b[0;34m(\u001b[0m\u001b[0msanitize_sequence\u001b[0m\u001b[0;34m,\u001b[0m \u001b[0margs\u001b[0m\u001b[0;34m)\u001b[0m\u001b[0;34m,\u001b[0m \u001b[0;34m**\u001b[0m\u001b[0mkwargs\u001b[0m\u001b[0;34m)\u001b[0m\u001b[0;34m\u001b[0m\u001b[0;34m\u001b[0m\u001b[0m\n\u001b[0m\u001b[1;32m   1415\u001b[0m \u001b[0;34m\u001b[0m\u001b[0m\n\u001b[1;32m   1416\u001b[0m         \u001b[0mbound\u001b[0m \u001b[0;34m=\u001b[0m \u001b[0mnew_sig\u001b[0m\u001b[0;34m.\u001b[0m\u001b[0mbind\u001b[0m\u001b[0;34m(\u001b[0m\u001b[0max\u001b[0m\u001b[0;34m,\u001b[0m \u001b[0;34m*\u001b[0m\u001b[0margs\u001b[0m\u001b[0;34m,\u001b[0m \u001b[0;34m**\u001b[0m\u001b[0mkwargs\u001b[0m\u001b[0;34m)\u001b[0m\u001b[0;34m\u001b[0m\u001b[0;34m\u001b[0m\u001b[0m\n",
            "\u001b[0;32m/usr/local/lib/python3.8/dist-packages/matplotlib/axes/_axes.py\u001b[0m in \u001b[0;36mhist\u001b[0;34m(self, x, bins, range, density, weights, cumulative, bottom, histtype, align, orientation, rwidth, log, color, label, stacked, **kwargs)\u001b[0m\n\u001b[1;32m   6791\u001b[0m             \u001b[0;32mif\u001b[0m \u001b[0mpatch\u001b[0m\u001b[0;34m:\u001b[0m\u001b[0;34m\u001b[0m\u001b[0;34m\u001b[0m\u001b[0m\n\u001b[1;32m   6792\u001b[0m                 \u001b[0mp\u001b[0m \u001b[0;34m=\u001b[0m \u001b[0mpatch\u001b[0m\u001b[0;34m[\u001b[0m\u001b[0;36m0\u001b[0m\u001b[0;34m]\u001b[0m\u001b[0;34m\u001b[0m\u001b[0;34m\u001b[0m\u001b[0m\n\u001b[0;32m-> 6793\u001b[0;31m                 \u001b[0mp\u001b[0m\u001b[0;34m.\u001b[0m\u001b[0mupdate\u001b[0m\u001b[0;34m(\u001b[0m\u001b[0mkwargs\u001b[0m\u001b[0;34m)\u001b[0m\u001b[0;34m\u001b[0m\u001b[0;34m\u001b[0m\u001b[0m\n\u001b[0m\u001b[1;32m   6794\u001b[0m                 \u001b[0;32mif\u001b[0m \u001b[0mlbl\u001b[0m \u001b[0;32mis\u001b[0m \u001b[0;32mnot\u001b[0m \u001b[0;32mNone\u001b[0m\u001b[0;34m:\u001b[0m\u001b[0;34m\u001b[0m\u001b[0;34m\u001b[0m\u001b[0m\n\u001b[1;32m   6795\u001b[0m                     \u001b[0mp\u001b[0m\u001b[0;34m.\u001b[0m\u001b[0mset_label\u001b[0m\u001b[0;34m(\u001b[0m\u001b[0mlbl\u001b[0m\u001b[0;34m)\u001b[0m\u001b[0;34m\u001b[0m\u001b[0;34m\u001b[0m\u001b[0m\n",
            "\u001b[0;32m/usr/local/lib/python3.8/dist-packages/matplotlib/artist.py\u001b[0m in \u001b[0;36mupdate\u001b[0;34m(self, props)\u001b[0m\n\u001b[1;32m   1065\u001b[0m                     \u001b[0mfunc\u001b[0m \u001b[0;34m=\u001b[0m \u001b[0mgetattr\u001b[0m\u001b[0;34m(\u001b[0m\u001b[0mself\u001b[0m\u001b[0;34m,\u001b[0m \u001b[0;34mf\"set_{k}\"\u001b[0m\u001b[0;34m,\u001b[0m \u001b[0;32mNone\u001b[0m\u001b[0;34m)\u001b[0m\u001b[0;34m\u001b[0m\u001b[0;34m\u001b[0m\u001b[0m\n\u001b[1;32m   1066\u001b[0m                     \u001b[0;32mif\u001b[0m \u001b[0;32mnot\u001b[0m \u001b[0mcallable\u001b[0m\u001b[0;34m(\u001b[0m\u001b[0mfunc\u001b[0m\u001b[0;34m)\u001b[0m\u001b[0;34m:\u001b[0m\u001b[0;34m\u001b[0m\u001b[0;34m\u001b[0m\u001b[0m\n\u001b[0;32m-> 1067\u001b[0;31m                         raise AttributeError(f\"{type(self).__name__!r} object \"\n\u001b[0m\u001b[1;32m   1068\u001b[0m                                              f\"has no property {k!r}\")\n\u001b[1;32m   1069\u001b[0m                     \u001b[0mret\u001b[0m\u001b[0;34m.\u001b[0m\u001b[0mappend\u001b[0m\u001b[0;34m(\u001b[0m\u001b[0mfunc\u001b[0m\u001b[0;34m(\u001b[0m\u001b[0mv\u001b[0m\u001b[0;34m)\u001b[0m\u001b[0;34m)\u001b[0m\u001b[0;34m\u001b[0m\u001b[0;34m\u001b[0m\u001b[0m\n",
            "\u001b[0;31mAttributeError\u001b[0m: 'Rectangle' object has no property 'normed'"
          ]
        },
        {
          "output_type": "display_data",
          "data": {
            "text/plain": [
              "<Figure size 432x288 with 1 Axes>"
            ],
            "image/png": "[encoded data removed]"
          },
          "metadata": {
            "needs_background": "light"
          }
        }
      ],
      "source": [
        "from scipy.stats.distributions import gamma\n",
        "\n",
        "precip.Jan.hist(normed=True, bins=20)\n",
        "plt.plot(np.linspace(1, 10), gamma.pdf(np.linspace(0, 10), alpha_mom[0], beta_mom[0]))"
      ]
    },
    {
      "cell_type": "markdown",
      "source": [
        "The normed parameter was deprecated in Matplotlib version 2.1 and removed in version 3.1. It has been replaced by the density parameter. Therefore, the hist() function is raising the error because it is trying to use a deprecated parameter.\n",
        "\n",
        "To fix the error, you can replace normed=True with density=True in the hist() function. Here's the modified code:\n",
        "\n"
      ],
      "metadata": {
        "id": "FPPEBYgxysvo"
      }
    },
    {
      "cell_type": "code",
      "source": [
        "from scipy.stats.distributions import gamma\n",
        "\n",
        "precip.Jan.hist(density=True, bins=20)\n",
        "plt.plot(np.linspace(1, 10), gamma.pdf(np.linspace(0, 10), alpha_mom[0], beta_mom[0]))\n"
      ],
      "metadata": {
        "colab": {
          "base_uri": "https://localhost:8080/",
          "height": 283
        },
        "id": "N4Go4LKAynuH",
        "outputId": "9274858c-2295-427e-c88b-8412852774dd"
      },
      "execution_count": 17,
      "outputs": [
        {
          "output_type": "execute_result",
          "data": {
            "text/plain": [
              "[<matplotlib.lines.Line2D at 0x7f628716d880>]"
            ]
          },
          "metadata": {},
          "execution_count": 17
        },
        {
          "output_type": "display_data",
          "data": {
            "text/plain": [
              "<Figure size 432x288 with 1 Axes>"
            ],
            "image/png": "[encoded data removed]"
          },
          "metadata": {
            "needs_background": "light"
          }
        }
      ]
    },
    {
      "cell_type": "markdown",
      "metadata": {
        "id": "xtTtk3VmvR7o"
      },
      "source": [
        "Looping over all months, we can create a grid of plots for the distribution of rainfall, using the gamma distribution:"
      ]
    },
    {
      "cell_type": "code",
      "source": [
        "axs = precip.hist(density=True, figsize=(12, 8), sharex=True, sharey=True, bins=15, grid=False)\n",
        "\n",
        "for ax in axs.ravel():\n",
        "    \n",
        "    # Get month\n",
        "    m = ax.get_title()\n",
        "    \n",
        "    # Plot fitted distribution\n",
        "    x = np.linspace(*ax.get_xlim())\n",
        "    ax.plot(x, gamma.pdf(x, alpha_mom[m], beta_mom[m]))\n",
        "    \n",
        "    # Annotate with parameter estimates\n",
        "    label = 'alpha = {0:.2f}\\nbeta = {2:.2f}'.format(alpha_mom[m], beta_mom[m])\n",
        "    ax.annotate(label, xy=(10, 0.2))\n",
        "    \n",
        "plt.tight_layout()"
      ],
      "metadata": {
        "colab": {
          "base_uri": "https://localhost:8080/",
          "height": 724
        },
        "id": "HydBxDUBzXiM",
        "outputId": "d42faa37-1eea-4ab4-b6f1-88fa8ea89fa6"
      },
      "execution_count": 19,
      "outputs": [
        {
          "output_type": "error",
          "ename": "IndexError",
          "evalue": "ignored",
          "traceback": [
            "\u001b[0;31m---------------------------------------------------------------------------\u001b[0m",
            "\u001b[0;31mIndexError\u001b[0m                                Traceback (most recent call last)",
            "\u001b[0;32m<ipython-input-19-a7c9ccb9bb1e>\u001b[0m in \u001b[0;36m<module>\u001b[0;34m\u001b[0m\n\u001b[1;32m     11\u001b[0m \u001b[0;34m\u001b[0m\u001b[0m\n\u001b[1;32m     12\u001b[0m     \u001b[0;31m# Annotate with parameter estimates\u001b[0m\u001b[0;34m\u001b[0m\u001b[0;34m\u001b[0m\u001b[0;34m\u001b[0m\u001b[0m\n\u001b[0;32m---> 13\u001b[0;31m     \u001b[0mlabel\u001b[0m \u001b[0;34m=\u001b[0m \u001b[0;34m'alpha = {0:.2f}\\nbeta = {2:.2f}'\u001b[0m\u001b[0;34m.\u001b[0m\u001b[0mformat\u001b[0m\u001b[0;34m(\u001b[0m\u001b[0malpha_mom\u001b[0m\u001b[0;34m[\u001b[0m\u001b[0mm\u001b[0m\u001b[0;34m]\u001b[0m\u001b[0;34m,\u001b[0m \u001b[0mbeta_mom\u001b[0m\u001b[0;34m[\u001b[0m\u001b[0mm\u001b[0m\u001b[0;34m]\u001b[0m\u001b[0;34m)\u001b[0m\u001b[0;34m\u001b[0m\u001b[0;34m\u001b[0m\u001b[0m\n\u001b[0m\u001b[1;32m     14\u001b[0m     \u001b[0max\u001b[0m\u001b[0;34m.\u001b[0m\u001b[0mannotate\u001b[0m\u001b[0;34m(\u001b[0m\u001b[0mlabel\u001b[0m\u001b[0;34m,\u001b[0m \u001b[0mxy\u001b[0m\u001b[0;34m=\u001b[0m\u001b[0;34m(\u001b[0m\u001b[0;36m10\u001b[0m\u001b[0;34m,\u001b[0m \u001b[0;36m0.2\u001b[0m\u001b[0;34m)\u001b[0m\u001b[0;34m)\u001b[0m\u001b[0;34m\u001b[0m\u001b[0;34m\u001b[0m\u001b[0m\n\u001b[1;32m     15\u001b[0m \u001b[0;34m\u001b[0m\u001b[0m\n",
            "\u001b[0;31mIndexError\u001b[0m: Replacement index 2 out of range for positional args tuple"
          ]
        },
        {
          "output_type": "display_data",
          "data": {
            "text/plain": [
              "<Figure size 864x576 with 12 Axes>"
            ],
            "image/png": "[encoded data removed]"
          },
          "metadata": {
            "needs_background": "light"
          }
        }
      ]
    },
    {
      "cell_type": "markdown",
      "metadata": {
        "id": "3dCrr-DdvR7o"
      },
      "source": [
        "Maximum Likelihood\n",
        "==================\n",
        "\n",
        "**Maximum likelihood** (ML) fitting is usually more work than the method of moments, but it is preferred as the resulting estimator is known to have good theoretical properties. \n",
        "\n",
        "There is a ton of theory regarding ML. We will restrict ourselves to the mechanics here.\n",
        "\n",
        "Say we have some data $y = y_1,y_2,\\ldots,y_n$ that is distributed according to some distribution:\n",
        "\n",
        "<div style=\"font-size: 120%;\">  \n",
        "$$Pr(Y_i=y_i | \\theta)$$\n",
        "</div>"
      ]
    },
    {
      "cell_type": "markdown",
      "metadata": {
        "id": "snlKePKSvR7o"
      },
      "source": [
        "Here, for example, is a **Poisson distribution** that describes the distribution of some discrete variables, typically *counts*: "
      ]
    },
    {
      "cell_type": "code",
      "execution_count": 21,
      "metadata": {
        "colab": {
          "base_uri": "https://localhost:8080/",
          "height": 297
        },
        "id": "s57Tbdl6vR7o",
        "outputId": "445488dd-8f04-4c79-b4b6-bdecb29be2f6"
      },
      "outputs": [
        {
          "output_type": "execute_result",
          "data": {
            "text/plain": [
              "Text(0, 0.5, 'Pr(y)')"
            ]
          },
          "metadata": {},
          "execution_count": 21
        },
        {
          "output_type": "display_data",
          "data": {
            "text/plain": [
              "<Figure size 432x288 with 1 Axes>"
            ],
            "image/png": "[encoded data removed]"
          },
          "metadata": {
            "needs_background": "light"
          }
        }
      ],
      "source": [
        "y = np.random.poisson(5, size=100)\n",
        "plt.hist(y, bins=12)\n",
        "plt.xlabel('y'); plt.ylabel('Pr(y)')"
      ]
    },
    {
      "cell_type": "markdown",
      "metadata": {
        "id": "OAKYJ-UnvR7o"
      },
      "source": [
        "The product $\\prod_{i=1}^n Pr(y_i | \\theta)$ gives us a measure of how **likely** it is to observe values $y_1,\\ldots,y_n$ given the parameters $\\theta$. Maximum likelihood fitting consists of choosing the appropriate function $l= Pr(Y|\\theta)$ to maximize for a given set of observations. We call this function the *likelihood function*, because it is a measure of how likely the observations are if the model is true.\n",
        "\n",
        "> Given these data, how likely is this model?"
      ]
    },
    {
      "cell_type": "markdown",
      "metadata": {
        "id": "4M-gOXgMvR7p"
      },
      "source": [
        "In the above model, the data were drawn from a Poisson distribution with parameter $\\lambda =5$.\n",
        "\n",
        "$$L(y|\\lambda=5) = \\frac{e^{-5} 5^y}{y!}$$\n",
        "\n",
        "So, for any given value of $y$, we can calculate its likelihood:"
      ]
    },
    {
      "cell_type": "code",
      "execution_count": 22,
      "metadata": {
        "colab": {
          "base_uri": "https://localhost:8080/"
        },
        "id": "Rz1V_Jf0vR7p",
        "outputId": "ddc1ab08-eca5-47d0-df9c-f0d77efd3423"
      },
      "outputs": [
        {
          "output_type": "execute_result",
          "data": {
            "text/plain": [
              "0.041303093412337726"
            ]
          },
          "metadata": {},
          "execution_count": 22
        }
      ],
      "source": [
        "poisson_like = lambda x, lam: np.exp(-lam) * (lam**x) / (np.arange(x)+1).prod()\n",
        "\n",
        "lam = 6\n",
        "value = 10\n",
        "poisson_like(value, lam)"
      ]
    },
    {
      "cell_type": "code",
      "execution_count": 24,
      "metadata": {
        "colab": {
          "base_uri": "https://localhost:8080/"
        },
        "id": "RCnRHIezvR7p",
        "outputId": "9bfd6c17-549f-4c05-ab4f-bc2df8caec31"
      },
      "outputs": [
        {
          "output_type": "stream",
          "name": "stderr",
          "text": [
            "<ipython-input-24-01123ef7edc7>:1: DeprecationWarning: Calling np.sum(generator) is deprecated, and in the future will give a different result. Use np.sum(np.fromiter(generator)) or the python sum builtin instead.\n",
            "  np.sum(poisson_like(yi, lam) for yi in y)\n"
          ]
        },
        {
          "output_type": "execute_result",
          "data": {
            "text/plain": [
              "11.61323723364493"
            ]
          },
          "metadata": {},
          "execution_count": 24
        }
      ],
      "source": [
        "np.sum(poisson_like(yi, lam) for yi in y)"
      ]
    },
    {
      "cell_type": "code",
      "execution_count": 25,
      "metadata": {
        "colab": {
          "base_uri": "https://localhost:8080/"
        },
        "id": "19dJEKUqvR7p",
        "outputId": "8fb19afa-ff47-4012-8a0f-35ad0daeb128"
      },
      "outputs": [
        {
          "output_type": "stream",
          "name": "stderr",
          "text": [
            "<ipython-input-25-f39f3c9af62a>:2: DeprecationWarning: Calling np.sum(generator) is deprecated, and in the future will give a different result. Use np.sum(np.fromiter(generator)) or the python sum builtin instead.\n",
            "  np.sum(poisson_like(yi, lam) for yi in y)\n"
          ]
        },
        {
          "output_type": "execute_result",
          "data": {
            "text/plain": [
              "7.589615711305067"
            ]
          },
          "metadata": {},
          "execution_count": 25
        }
      ],
      "source": [
        "lam = 8\n",
        "np.sum(poisson_like(yi, lam) for yi in y)"
      ]
    },
    {
      "cell_type": "markdown",
      "metadata": {
        "id": "OcMVf5zfvR7p"
      },
      "source": [
        "We can plot the likelihood function for any value of the parameter(s):"
      ]
    },
    {
      "cell_type": "code",
      "execution_count": 26,
      "metadata": {
        "colab": {
          "base_uri": "https://localhost:8080/",
          "height": 299
        },
        "id": "XGJnK5QZvR7p",
        "outputId": "fd89801c-1f52-4f01-9b91-005f567d736f"
      },
      "outputs": [
        {
          "output_type": "execute_result",
          "data": {
            "text/plain": [
              "Text(0, 0.5, 'L($\\\\lambda$|x=5)')"
            ]
          },
          "metadata": {},
          "execution_count": 26
        },
        {
          "output_type": "display_data",
          "data": {
            "text/plain": [
              "<Figure size 432x288 with 1 Axes>"
            ],
            "image/png": "[encoded data removed]"
          },
          "metadata": {
            "needs_background": "light"
          }
        }
      ],
      "source": [
        "lambdas = np.linspace(0,15)\n",
        "x = 5\n",
        "plt.plot(lambdas, [poisson_like(x, l) for l in lambdas])\n",
        "plt.xlabel('$\\lambda$')\n",
        "plt.ylabel('L($\\lambda$|x={0})'.format(x))"
      ]
    },
    {
      "cell_type": "markdown",
      "metadata": {
        "id": "rU8NDRs_vR7p"
      },
      "source": [
        "How is the likelihood function different than the probability distribution function (PDF)? The likelihood is a function of the parameter(s) *given the data*, whereas the PDF returns the probability of data given a particular parameter value. Here is the PDF of the Poisson for $\\lambda=5$."
      ]
    },
    {
      "cell_type": "code",
      "execution_count": 27,
      "metadata": {
        "colab": {
          "base_uri": "https://localhost:8080/",
          "height": 297
        },
        "id": "Ez3Befo-vR7p",
        "outputId": "6e1594e9-b698-44ea-bc45-7f9127cd364d"
      },
      "outputs": [
        {
          "output_type": "execute_result",
          "data": {
            "text/plain": [
              "Text(0, 0.5, 'Pr(X|$\\\\lambda$=5)')"
            ]
          },
          "metadata": {},
          "execution_count": 27
        },
        {
          "output_type": "display_data",
          "data": {
            "text/plain": [
              "<Figure size 432x288 with 1 Axes>"
            ],
            "image/png": "[encoded data removed]"
          },
          "metadata": {
            "needs_background": "light"
          }
        }
      ],
      "source": [
        "lam = 5\n",
        "xvals = np.arange(15)\n",
        "plt.bar(xvals, [poisson_like(x, lam) for x in xvals])\n",
        "plt.xlabel('x')\n",
        "plt.ylabel('Pr(X|$\\lambda$=5)')"
      ]
    },
    {
      "cell_type": "markdown",
      "metadata": {
        "id": "2ihX-0X-vR7q"
      },
      "source": [
        "Why are we interested in the likelihood function? \n",
        "\n",
        "A reasonable estimate of the true, unknown value for the parameter is one which **maximizes the likelihood function**. So, inference is reduced to an optimization problem."
      ]
    },
    {
      "cell_type": "markdown",
      "metadata": {
        "id": "sg4dfgX6vR7q"
      },
      "source": [
        "Going back to the rainfall data, if we are using a gamma distribution we need to maximize:\n",
        "\n",
        "$$\\begin{align}l(\\alpha,\\beta) &= \\sum_{i=1}^n \\log[\\beta^{\\alpha} x^{\\alpha-1} e^{-x/\\beta}\\Gamma(\\alpha)^{-1}] \\cr \n",
        "&= n[(\\alpha-1)\\overline{\\log(x)} - \\bar{x}\\beta + \\alpha\\log(\\beta) - \\log\\Gamma(\\alpha)]\\end{align}$$\n",
        "\n",
        "(*Its usually easier to work in the log scale*)\n",
        "\n",
        "where $n = 2012 − 1871 = 141$ and the bar indicates an average over all *i*. We choose $\\alpha$ and $\\beta$ to maximize $l(\\alpha,\\beta)$.\n",
        "\n",
        "Notice $l$ is infinite if any $x$ is zero. We do not have any zeros, but we do have an NA value for one of the October data, which we dealt with above."
      ]
    },
    {
      "cell_type": "markdown",
      "metadata": {
        "id": "UuY8ra97vR7q"
      },
      "source": [
        "### Finding the MLE\n",
        "\n",
        "To find the maximum of any function, we typically take the *derivative* with respect to the variable to be maximized, set it to zero and solve for that variable. \n",
        "\n",
        "$$\\frac{\\partial l(\\alpha,\\beta)}{\\partial \\beta} = n\\left(\\frac{\\alpha}{\\beta} - \\bar{x}\\right) = 0$$\n",
        "\n",
        "Which can be solved as $\\beta = \\alpha/\\bar{x}$. However, plugging this into the derivative with respect to $\\alpha$ yields:\n",
        "\n",
        "$$\\frac{\\partial l(\\alpha,\\beta)}{\\partial \\alpha} = \\log(\\alpha) + \\overline{\\log(x)} - \\log(\\bar{x}) - \\frac{\\Gamma(\\alpha)'}{\\Gamma(\\alpha)} = 0$$\n",
        "\n",
        "This has no closed form solution. We must use ***numerical optimization***!"
      ]
    },
    {
      "cell_type": "markdown",
      "metadata": {
        "id": "wgu-qbcwvR7q"
      },
      "source": [
        "Numerical optimization alogarithms take an initial \"guess\" at the solution, and iteratively improve the guess until it gets \"close enough\" to the answer.\n",
        "\n",
        "Here, we will use Newton-Raphson algorithm:\n",
        "\n",
        "<div style=\"font-size: 120%;\">  \n",
        "$$x_{n+1} = x_n - \\frac{f(x_n)}{f'(x_n)}$$\n",
        "</div>"
      ]
    },
    {
      "cell_type": "markdown",
      "metadata": {
        "id": "fuamWe5yvR7q"
      },
      "source": [
        "Which is available to us via SciPy:"
      ]
    },
    {
      "cell_type": "code",
      "execution_count": 28,
      "metadata": {
        "id": "EqUis6FavR7q"
      },
      "outputs": [],
      "source": [
        "from scipy.optimize import newton"
      ]
    },
    {
      "cell_type": "markdown",
      "metadata": {
        "id": "c0Wn_3BDvR7r"
      },
      "source": [
        "Here is a graphical example of how Newtone-Raphson converges on a solution, using an arbitrary function:"
      ]
    },
    {
      "cell_type": "code",
      "execution_count": 29,
      "metadata": {
        "colab": {
          "base_uri": "https://localhost:8080/",
          "height": 283
        },
        "id": "9Z4FqB3LvR7r",
        "outputId": "4183c0b0-8840-4e9a-f6de-2be6f628a799"
      },
      "outputs": [
        {
          "output_type": "execute_result",
          "data": {
            "text/plain": [
              "Text(1.4706070287539936, -0.2, '$x_{n+1}$')"
            ]
          },
          "metadata": {},
          "execution_count": 29
        },
        {
          "output_type": "display_data",
          "data": {
            "text/plain": [
              "<Figure size 432x288 with 1 Axes>"
            ],
            "image/png": "[encoded data removed]"
          },
          "metadata": {
            "needs_background": "light"
          }
        }
      ],
      "source": [
        "# some function\n",
        "func = lambda x: 3./(1 + 400*np.exp(-2*x)) - 1\n",
        "xvals = np.linspace(0, 6)\n",
        "plt.plot(xvals, func(xvals))\n",
        "plt.text(5.3, 2.1, '$f(x)$', fontsize=16)\n",
        "# zero line\n",
        "plt.plot([0,6], [0,0], 'k-')\n",
        "# value at step n\n",
        "plt.plot([4,4], [0,func(4)], 'k:')\n",
        "plt.text(4, -.2, '$x_n$', fontsize=16)\n",
        "# tangent line\n",
        "tanline = lambda x: -0.858 + 0.626*x\n",
        "plt.plot(xvals, tanline(xvals), 'r--')\n",
        "# point at step n+1\n",
        "xprime = 0.858/0.626\n",
        "plt.plot([xprime, xprime], [tanline(xprime), func(xprime)], 'k:')\n",
        "plt.text(xprime+.1, -.2, '$x_{n+1}$', fontsize=16)"
      ]
    },
    {
      "cell_type": "markdown",
      "metadata": {
        "id": "eDsmD2EuvR7r"
      },
      "source": [
        "To apply the Newton-Raphson algorithm, we need a function that returns a vector containing the **first and second derivatives** of the function with respect to the variable of interest. In our case, this is:"
      ]
    },
    {
      "cell_type": "code",
      "execution_count": 30,
      "metadata": {
        "id": "EZDMO6EcvR7r"
      },
      "outputs": [],
      "source": [
        "from scipy.special import psi, polygamma\n",
        "\n",
        "dlgamma = lambda m, log_mean, mean_log: np.log(m) - psi(m) - log_mean + mean_log\n",
        "dl2gamma = lambda m, *args: 1./m - polygamma(1, m)"
      ]
    },
    {
      "cell_type": "markdown",
      "metadata": {
        "id": "E0BKGZPyvR7r"
      },
      "source": [
        "where `log_mean` and `mean_log` are $\\log{\\bar{x}}$ and $\\overline{\\log(x)}$, respectively. `psi` and `polygamma` are complex functions of the Gamma function that result when you take first and second derivatives of that function."
      ]
    },
    {
      "cell_type": "code",
      "execution_count": 31,
      "metadata": {
        "id": "y51MpqScvR7s"
      },
      "outputs": [],
      "source": [
        "# Calculate statistics\n",
        "log_mean = precip.mean().apply(np.log)\n",
        "mean_log = precip.apply(np.log).mean()"
      ]
    },
    {
      "cell_type": "markdown",
      "metadata": {
        "id": "0PABvQQHvR7s"
      },
      "source": [
        "Time to optimize!"
      ]
    },
    {
      "cell_type": "code",
      "execution_count": 32,
      "metadata": {
        "colab": {
          "base_uri": "https://localhost:8080/"
        },
        "id": "tp1M1wObvR7s",
        "outputId": "75cfc398-d245-482a-992e-1a01c06cfc90"
      },
      "outputs": [
        {
          "output_type": "execute_result",
          "data": {
            "text/plain": [
              "3.518967915239979"
            ]
          },
          "metadata": {},
          "execution_count": 32
        }
      ],
      "source": [
        "# Alpha MLE for December\n",
        "alpha_mle = newton(dlgamma, 2, dl2gamma, args=(log_mean[-1], mean_log[-1]))\n",
        "alpha_mle"
      ]
    },
    {
      "cell_type": "markdown",
      "metadata": {
        "id": "SPCVHggNvR7s"
      },
      "source": [
        "And now plug this back into the solution for beta:\n",
        "\n",
        "<div style=\"font-size: 120%;\">  \n",
        "$$ \\beta  = \\frac{\\alpha}{\\bar{X}} $$\n",
        "</div>"
      ]
    },
    {
      "cell_type": "code",
      "execution_count": 33,
      "metadata": {
        "colab": {
          "base_uri": "https://localhost:8080/"
        },
        "id": "hwX3j08OvR7s",
        "outputId": "fc508007-4c6d-4233-f575-71fc66f67a49"
      },
      "outputs": [
        {
          "output_type": "execute_result",
          "data": {
            "text/plain": [
              "0.842616075484142"
            ]
          },
          "metadata": {},
          "execution_count": 33
        }
      ],
      "source": [
        "beta_mle = alpha_mle/precip.mean()[-1]\n",
        "beta_mle"
      ]
    },
    {
      "cell_type": "markdown",
      "metadata": {
        "id": "tHGfmbG3vR7s"
      },
      "source": [
        "We can compare the fit of the estimates derived from MLE to those from the method of moments:"
      ]
    },
    {
      "cell_type": "code",
      "execution_count": 48,
      "metadata": {
        "colab": {
          "base_uri": "https://localhost:8080/",
          "height": 283
        },
        "id": "tWY0EZk_vR7s",
        "outputId": "e44aa6b0-787a-4c30-b7fb-bc7f27e06f55"
      },
      "outputs": [
        {
          "output_type": "execute_result",
          "data": {
            "text/plain": [
              "[<matplotlib.lines.Line2D at 0x7f62841a4880>]"
            ]
          },
          "metadata": {},
          "execution_count": 48
        },
        {
          "output_type": "display_data",
          "data": {
            "text/plain": [
              "<Figure size 432x288 with 1 Axes>"
            ],
            "image/png": "[encoded data removed]"
          },
          "metadata": {
            "needs_background": "light"
          }
        }
      ],
      "source": [
        "dec = precip.Dec\n",
        "dec.hist(bins=10, grid=False, density=True)\n",
        "x = np.linspace(0, dec.max())\n",
        "plt.plot(x, gamma.pdf(x, alpha_mom[-1], beta_mom[-1]), 'm-')\n",
        "plt.plot(x, gamma.pdf(x, alpha_mle, beta_mle), 'r--')"
      ]
    },
    {
      "cell_type": "markdown",
      "metadata": {
        "id": "uTnVrLkPvR7s"
      },
      "source": [
        "For some common distributions, SciPy includes methods for fitting via MLE:"
      ]
    },
    {
      "cell_type": "code",
      "execution_count": 36,
      "metadata": {
        "colab": {
          "base_uri": "https://localhost:8080/"
        },
        "id": "0iYLwsvQvR7s",
        "outputId": "28571c6a-fac2-4fec-dcb5-f8523dc05cac"
      },
      "outputs": [
        {
          "output_type": "execute_result",
          "data": {
            "text/plain": [
              "(2.242751775315231, 0.6549460447018862, 1.570073932063466)"
            ]
          },
          "metadata": {},
          "execution_count": 36
        }
      ],
      "source": [
        "from scipy.stats import gamma\n",
        "\n",
        "gamma.fit(precip.Dec)"
      ]
    },
    {
      "cell_type": "markdown",
      "metadata": {
        "id": "NUwuADG8vR7s"
      },
      "source": [
        "This fit is not directly comparable to our estimates, however, because SciPy's `gamma.fit` method fits an odd 3-parameter version of the gamma distribution."
      ]
    },
    {
      "cell_type": "markdown",
      "metadata": {
        "id": "TCTZz9nXvR7t"
      },
      "source": [
        "### Example: truncated distribution\n",
        "\n",
        "Suppose that we observe $Y$ truncated below at $a$ (where $a$ is known). If $X$ is the distribution of our observation, then:\n",
        "\n",
        "$$ P(X \\le x) = P(Y \\le x|Y \\gt a) = \\frac{P(a \\lt Y \\le x)}{P(Y \\gt a)}$$\n",
        "\n",
        "(so, $Y$ is the original variable and $X$ is the truncated variable) \n",
        "\n",
        "Then X has the density:\n",
        "\n",
        "$$f_X(x) = \\frac{f_Y (x)}{1−F_Y (a)} \\, \\text{for} \\, x \\gt a$$ \n",
        "\n",
        "Suppose $Y \\sim N(\\mu, \\sigma^2)$ and $x_1,\\ldots,x_n$ are independent observations of $X$. We can use maximum likelihood to find $\\mu$ and $\\sigma$. "
      ]
    },
    {
      "cell_type": "markdown",
      "metadata": {
        "id": "ie6WrBiUvR7t"
      },
      "source": [
        "First, we can simulate a truncated distribution using a `while` statement to eliminate samples that are outside the support of the truncated distribution."
      ]
    },
    {
      "cell_type": "code",
      "execution_count": 37,
      "metadata": {
        "colab": {
          "base_uri": "https://localhost:8080/",
          "height": 265
        },
        "id": "ha6eDdO5vR7t",
        "outputId": "a1ce24c4-67fd-41cc-ce8d-5809af568db5"
      },
      "outputs": [
        {
          "output_type": "display_data",
          "data": {
            "text/plain": [
              "<Figure size 432x288 with 1 Axes>"
            ],
            "image/png": "[encoded data removed]"
          },
          "metadata": {
            "needs_background": "light"
          }
        }
      ],
      "source": [
        "x = np.random.normal(size=10000)\n",
        "a = -1\n",
        "x_small = x < a\n",
        "while x_small.sum():\n",
        "    x[x_small] = np.random.normal(size=x_small.sum())\n",
        "    x_small = x < a\n",
        "    \n",
        "_ = plt.hist(x, bins=100)"
      ]
    },
    {
      "cell_type": "markdown",
      "metadata": {
        "id": "KhludqscvR7t"
      },
      "source": [
        "We can construct a log likelihood for this function using the conditional form:\n",
        "\n",
        "$$f_X(x) = \\frac{f_Y (x)}{1−F_Y (a)} \\, \\text{for} \\, x \\gt a$$ "
      ]
    },
    {
      "cell_type": "code",
      "execution_count": 38,
      "metadata": {
        "id": "JMTKan0qvR7t"
      },
      "outputs": [],
      "source": [
        "from scipy.stats.distributions import norm\n",
        "\n",
        "trunc_norm = lambda theta, a, x: -(np.log(norm.pdf(x, theta[0], theta[1])) - \n",
        "                                      np.log(1 - norm.cdf(a, theta[0], theta[1]))).sum()"
      ]
    },
    {
      "cell_type": "markdown",
      "metadata": {
        "id": "dmfD9wyHvR7u"
      },
      "source": [
        "For this example, we will use another optimization algorithm, the **Nelder-Mead simplex algorithm**. It has a couple of advantages: \n",
        "\n",
        "- it does not require derivatives\n",
        "- it can optimize (minimize) a vector of parameters\n",
        "\n",
        "SciPy implements this algorithm in its `fmin` function:"
      ]
    },
    {
      "cell_type": "code",
      "execution_count": 39,
      "metadata": {
        "colab": {
          "base_uri": "https://localhost:8080/"
        },
        "id": "rxnPstBAvR7u",
        "outputId": "57b87a95-ea13-49f3-f4e4-bf2420e14bfd"
      },
      "outputs": [
        {
          "output_type": "stream",
          "name": "stdout",
          "text": [
            "Optimization terminated successfully.\n",
            "         Current function value: 11100.434858\n",
            "         Iterations: 43\n",
            "         Function evaluations: 82\n"
          ]
        },
        {
          "output_type": "execute_result",
          "data": {
            "text/plain": [
              "array([-0.03005041,  1.02629171])"
            ]
          },
          "metadata": {},
          "execution_count": 39
        }
      ],
      "source": [
        "from scipy.optimize import fmin\n",
        "\n",
        "fmin(trunc_norm, np.array([1,2]), args=(-1, x))"
      ]
    },
    {
      "cell_type": "markdown",
      "metadata": {
        "id": "OVHKffTmvR7u"
      },
      "source": [
        "In general, simulating data is a terrific way of testing your model before using it with real data."
      ]
    },
    {
      "cell_type": "markdown",
      "metadata": {
        "id": "SLXFDBvuvR7u"
      },
      "source": [
        "### Kernel density estimates\n",
        "\n",
        "In some instances, we may not be interested in the parameters of a particular distribution of data, but just a smoothed representation of the data at hand. In this case, we can estimate the disribution *non-parametrically* (i.e. making no assumptions about the form of the underlying distribution) using kernel density estimation."
      ]
    },
    {
      "cell_type": "code",
      "execution_count": 40,
      "metadata": {
        "colab": {
          "base_uri": "https://localhost:8080/"
        },
        "id": "q9yeMUUXvR7u",
        "outputId": "4a625140-2e54-4b55-9775-86d1c305dac0"
      },
      "outputs": [
        {
          "output_type": "execute_result",
          "data": {
            "text/plain": [
              "array([2.19611369, 0.31778493, 5.83695873, 8.80909173, 5.17646909,\n",
              "       7.47833168, 1.63180808, 5.58166643, 6.99776767, 7.82550357,\n",
              "       1.17347674, 4.40454612, 6.99365763, 8.24661928, 2.28617302])"
            ]
          },
          "metadata": {},
          "execution_count": 40
        }
      ],
      "source": [
        "# Some random data\n",
        "y = np.random.random(15) * 10\n",
        "y"
      ]
    },
    {
      "cell_type": "code",
      "execution_count": 41,
      "metadata": {
        "colab": {
          "base_uri": "https://localhost:8080/",
          "height": 286
        },
        "id": "ylK0QnyxvR7u",
        "outputId": "0c96e339-2fb6-4c1a-896c-5a18c7b71d27"
      },
      "outputs": [
        {
          "output_type": "execute_result",
          "data": {
            "text/plain": [
              "[<matplotlib.lines.Line2D at 0x7f6287375a30>]"
            ]
          },
          "metadata": {},
          "execution_count": 41
        },
        {
          "output_type": "display_data",
          "data": {
            "text/plain": [
              "<Figure size 432x288 with 1 Axes>"
            ],
            "image/png": "[encoded data removed]"
          },
          "metadata": {
            "needs_background": "light"
          }
        }
      ],
      "source": [
        "x = np.linspace(0, 10, 100)\n",
        "# Smoothing parameter\n",
        "s = 0.4\n",
        "# Calculate the kernels\n",
        "kernels = np.transpose([norm.pdf(x, yi, s) for yi in y])\n",
        "plt.plot(x, kernels, 'k:')\n",
        "plt.plot(x, kernels.sum(1))\n",
        "plt.plot(y, np.zeros(len(y)), 'ro', ms=10)"
      ]
    },
    {
      "cell_type": "markdown",
      "metadata": {
        "id": "1IInlnFnvR7v"
      },
      "source": [
        "SciPy implements a Gaussian KDE that automatically chooses an appropriate bandwidth. Let's create a bi-modal distribution of data that is not easily summarized by a parametric distribution:"
      ]
    },
    {
      "cell_type": "code",
      "execution_count": 42,
      "metadata": {
        "id": "7hei79UpvR7v"
      },
      "outputs": [],
      "source": [
        "# Create a bi-modal distribution with a mixture of Normals.\n",
        "x1 = np.random.normal(0, 3, 50)\n",
        "x2 = np.random.normal(4, 1, 50)\n",
        "\n",
        "# Append by row\n",
        "x = np.r_[x1, x2]"
      ]
    },
    {
      "cell_type": "code",
      "execution_count": 47,
      "metadata": {
        "colab": {
          "base_uri": "https://localhost:8080/",
          "height": 358
        },
        "id": "n6OINODdvR7v",
        "outputId": "b683ba4c-98c0-477f-edff-e5dfc78a7b8f"
      },
      "outputs": [
        {
          "output_type": "execute_result",
          "data": {
            "text/plain": [
              "(array([0.0446374 , 0.03826063, 0.01913031, 0.05739094, 0.07652126,\n",
              "        0.12753543, 0.19130315, 0.08289803]),\n",
              " array([-6.1192596 , -4.55106794, -2.98287628, -1.41468462,  0.15350704,\n",
              "         1.7216987 ,  3.28989036,  4.85808202,  6.42627368]),\n",
              " <BarContainer object of 8 artists>)"
            ]
          },
          "metadata": {},
          "execution_count": 47
        },
        {
          "output_type": "display_data",
          "data": {
            "text/plain": [
              "<Figure size 432x288 with 1 Axes>"
            ],
            "image/png": "[encoded data removed]"
          },
          "metadata": {
            "needs_background": "light"
          }
        }
      ],
      "source": [
        "plt.hist(x, bins=8,density=True)"
      ]
    },
    {
      "cell_type": "code",
      "execution_count": 46,
      "metadata": {
        "colab": {
          "base_uri": "https://localhost:8080/",
          "height": 342
        },
        "id": "c_NMql73vR7v",
        "outputId": "522b9550-5797-46d3-d077-e112c3be4e08"
      },
      "outputs": [
        {
          "output_type": "stream",
          "name": "stderr",
          "text": [
            "<ipython-input-46-f3ffa80b8e98>:3: DeprecationWarning: Please use `gaussian_kde` from the `scipy.stats` namespace, the `scipy.stats.kde` namespace is deprecated.\n",
            "  density = kde.gaussian_kde(x)\n"
          ]
        },
        {
          "output_type": "execute_result",
          "data": {
            "text/plain": [
              "[<matplotlib.lines.Line2D at 0x7f62873d0340>]"
            ]
          },
          "metadata": {},
          "execution_count": 46
        },
        {
          "output_type": "display_data",
          "data": {
            "text/plain": [
              "<Figure size 432x288 with 1 Axes>"
            ],
            "image/png": "[encoded data removed]"
          },
          "metadata": {
            "needs_background": "light"
          }
        }
      ],
      "source": [
        "from scipy.stats import kde\n",
        "\n",
        "density = kde.gaussian_kde(x)\n",
        "xgrid = np.linspace(x.min(), x.max(), 100)\n",
        "plt.hist(x, bins=8, density=True)\n",
        "plt.plot(xgrid, density(xgrid), 'r-')"
      ]
    },
    {
      "cell_type": "markdown",
      "metadata": {
        "id": "VkVd2He7vR7v"
      },
      "source": [
        "### Exercise: Cervical dystonia analysis\n",
        "\n",
        "Recall the cervical dystonia database, which is a clinical trial of botulinum toxin type B (BotB) for patients with cervical dystonia from nine U.S. sites. The response variable is measurements on the Toronto Western Spasmodic Torticollis Rating Scale (TWSTRS), measuring severity, pain, and disability of cervical dystonia (high scores mean more impairment). One way to check the efficacy of the treatment is to compare the distribution of TWSTRS for control and treatment patients at the end of the study.\n",
        "\n",
        "Use the method of moments or MLE to calculate the mean and variance of TWSTRS at week 16 for one of the treatments and the control group. Assume that the distribution of the `twstrs` variable is normal:\n",
        "\n",
        "$$f(x \\mid \\mu, \\sigma^2) = \\sqrt{\\frac{1}{2\\pi\\sigma^2}} \\exp\\left\\{ -\\frac{1}{2} \\frac{(x-\\mu)^2}{\\sigma^2} \\right\\}$$"
      ]
    },
    {
      "cell_type": "code",
      "execution_count": 51,
      "metadata": {
        "colab": {
          "base_uri": "https://localhost:8080/",
          "height": 355
        },
        "id": "1bhOZdZsvR7v",
        "outputId": "39f7856e-c6c6-49dc-98a2-67ecdb45073a"
      },
      "outputs": [
        {
          "output_type": "execute_result",
          "data": {
            "text/plain": [
              "array([[<AxesSubplot:title={'center':'10000U'}>,\n",
              "        <AxesSubplot:title={'center':'5000U'}>],\n",
              "       [<AxesSubplot:title={'center':'Placebo'}>, <AxesSubplot:>]],\n",
              "      dtype=object)"
            ]
          },
          "metadata": {},
          "execution_count": 51
        },
        {
          "output_type": "display_data",
          "data": {
            "text/plain": [
              "<Figure size 432x288 with 4 Axes>"
            ],
            "image/png": "[encoded data removed]"
          },
          "metadata": {
            "needs_background": "light"
          }
        }
      ],
      "source": [
        "cdystonia = pd.read_csv(\"/content/drive/MyDrive/Colab Notebooks/Python MasterClass/scipy/cdystonia.csv\")\n",
        "cdystonia[cdystonia.obs==6].hist(column='twstrs', by=cdystonia.treat, bins=8)"
      ]
    },
    {
      "cell_type": "code",
      "execution_count": 52,
      "metadata": {
        "id": "2VuIKyoavR7v"
      },
      "outputs": [],
      "source": [
        "# Write your answer here"
      ]
    },
    {
      "cell_type": "markdown",
      "metadata": {
        "id": "BmFDWE7QvR7v"
      },
      "source": [
        "## Regression models\n",
        "\n",
        "A general, primary goal of many statistical data analysis tasks is to relate the influence of one variable on another. For example, we may wish to know how different medical interventions influence the incidence or duration of disease, or perhaps a how baseball player's performance varies as a function of age."
      ]
    },
    {
      "cell_type": "code",
      "execution_count": 53,
      "metadata": {
        "colab": {
          "base_uri": "https://localhost:8080/",
          "height": 283
        },
        "id": "_JUCvg5ZvR7w",
        "outputId": "ffd8e682-99d9-4a90-d784-5f570423b2fc"
      },
      "outputs": [
        {
          "output_type": "execute_result",
          "data": {
            "text/plain": [
              "[<matplotlib.lines.Line2D at 0x7f6283fa4c10>]"
            ]
          },
          "metadata": {},
          "execution_count": 53
        },
        {
          "output_type": "display_data",
          "data": {
            "text/plain": [
              "<Figure size 432x288 with 1 Axes>"
            ],
            "image/png": "[encoded data removed]"
          },
          "metadata": {
            "needs_background": "light"
          }
        }
      ],
      "source": [
        "x = np.array([2.2, 4.3, 5.1, 5.8, 6.4, 8.0])\n",
        "y = np.array([0.4, 10.1, 14.0, 10.9, 15.4, 18.5])\n",
        "plt.plot(x,y,'ro')"
      ]
    },
    {
      "cell_type": "markdown",
      "metadata": {
        "id": "Q5Qge23dvR7w"
      },
      "source": [
        "We can build a model to characterize the relationship between $X$ and $Y$, recognizing that additional factors other than $X$ (the ones we have measured or are interested in) may influence the response variable $Y$.\n",
        "\n",
        "<div style=\"font-size: 150%;\">  \n",
        "$y_i = f(x_i) + \\epsilon_i$\n",
        "</div>"
      ]
    },
    {
      "cell_type": "markdown",
      "metadata": {
        "id": "L4N_fVQQvR70"
      },
      "source": [
        "where $f$ is some function, for example a linear function:\n",
        "\n",
        "<div style=\"font-size: 150%;\">  \n",
        "$y_i = \\beta_0 + \\beta_1 x_i + \\epsilon_i$\n",
        "</div>"
      ]
    },
    {
      "cell_type": "markdown",
      "metadata": {
        "id": "0kw7VLVmvR70"
      },
      "source": [
        "and $\\epsilon_i$ accounts for the difference between the observed response $y_i$ and its prediction from the model $\\hat{y_i} = \\beta_0 + \\beta_1 x_i$. This is sometimes referred to as **process uncertainty**."
      ]
    },
    {
      "cell_type": "markdown",
      "metadata": {
        "id": "OFV79VyjvR71"
      },
      "source": [
        "We would like to select $\\beta_0, \\beta_1$ so that the difference between the predictions and the observations is zero, but this is not usually possible. Instead, we choose a reasonable criterion: ***the smallest sum of the squared differences between $\\hat{y}$ and $y$***.\n",
        "\n",
        "<div style=\"font-size: 120%;\">  \n",
        "$$R^2 = \\sum_i (y_i - [\\beta_0 + \\beta_1 x_i])^2 = \\sum_i \\epsilon_i^2 $$  \n",
        "</div>\n",
        "\n",
        "Squaring serves two purposes: (1) to prevent positive and negative values from cancelling each other out and (2) to strongly penalize large deviations. Whether the latter is a good thing or not depends on the goals of the analysis.\n",
        "\n",
        "In other words, we will select the parameters that minimize the squared error of the model."
      ]
    },
    {
      "cell_type": "code",
      "execution_count": 54,
      "metadata": {
        "id": "oW8FnVucvR71"
      },
      "outputs": [],
      "source": [
        "ss = lambda theta, x, y: np.sum((y - theta[0] - theta[1]*x) ** 2)"
      ]
    },
    {
      "cell_type": "code",
      "execution_count": 56,
      "metadata": {
        "colab": {
          "base_uri": "https://localhost:8080/"
        },
        "id": "6D1kVEPrvR71",
        "outputId": "d2730a63-2591-4733-aac4-c572c0b8689d"
      },
      "outputs": [
        {
          "output_type": "execute_result",
          "data": {
            "text/plain": [
              "333.35"
            ]
          },
          "metadata": {},
          "execution_count": 56
        }
      ],
      "source": [
        "ss([0,1],x,y)"
      ]
    },
    {
      "cell_type": "code",
      "execution_count": 57,
      "metadata": {
        "colab": {
          "base_uri": "https://localhost:8080/"
        },
        "id": "QLYGQGZGvR71",
        "outputId": "3b43b11b-2327-4279-f5af-eaa37559ad94"
      },
      "outputs": [
        {
          "output_type": "stream",
          "name": "stdout",
          "text": [
            "Optimization terminated successfully.\n",
            "         Current function value: 21.375000\n",
            "         Iterations: 79\n",
            "         Function evaluations: 153\n"
          ]
        },
        {
          "output_type": "execute_result",
          "data": {
            "text/plain": [
              "(-4.350013603887088, 3.0000002915386412)"
            ]
          },
          "metadata": {},
          "execution_count": 57
        }
      ],
      "source": [
        "b0,b1 = fmin(ss, [0,1], args=(x,y))\n",
        "b0,b1"
      ]
    },
    {
      "cell_type": "code",
      "execution_count": 58,
      "metadata": {
        "colab": {
          "base_uri": "https://localhost:8080/",
          "height": 283
        },
        "id": "17QN7Y0avR71",
        "outputId": "8294ca95-0b52-4333-96f7-0c98096770ab"
      },
      "outputs": [
        {
          "output_type": "execute_result",
          "data": {
            "text/plain": [
              "[<matplotlib.lines.Line2D at 0x7f6283f8fd60>]"
            ]
          },
          "metadata": {},
          "execution_count": 58
        },
        {
          "output_type": "display_data",
          "data": {
            "text/plain": [
              "<Figure size 432x288 with 1 Axes>"
            ],
            "image/png": "[encoded data removed]"
          },
          "metadata": {
            "needs_background": "light"
          }
        }
      ],
      "source": [
        "plt.plot(x, y, 'ro')\n",
        "plt.plot([0,10], [b0, b0+b1*10])"
      ]
    },
    {
      "cell_type": "code",
      "execution_count": 59,
      "metadata": {
        "colab": {
          "base_uri": "https://localhost:8080/",
          "height": 287
        },
        "id": "_cI8PWXdvR71",
        "outputId": "1c92d5fa-a1c1-4fc0-c4f0-cb53142bf3e4"
      },
      "outputs": [
        {
          "output_type": "execute_result",
          "data": {
            "text/plain": [
              "(0.0, 20.0)"
            ]
          },
          "metadata": {},
          "execution_count": 59
        },
        {
          "output_type": "display_data",
          "data": {
            "text/plain": [
              "<Figure size 432x288 with 1 Axes>"
            ],
            "image/png": "[encoded data removed]"
          },
          "metadata": {
            "needs_background": "light"
          }
        }
      ],
      "source": [
        "plt.plot(x, y, 'ro')\n",
        "plt.plot([0,10], [b0, b0+b1*10])\n",
        "for xi, yi in zip(x,y):\n",
        "    plt.plot([xi]*2, [yi, b0+b1*xi], 'k:')\n",
        "plt.xlim(2, 9); plt.ylim(0, 20)"
      ]
    },
    {
      "cell_type": "markdown",
      "metadata": {
        "id": "I1sZWUxPvR71"
      },
      "source": [
        "Minimizing the sum of squares is not the only criterion we can use; it is just a very popular (and successful) one. For example, we can try to minimize the sum of absolute differences:"
      ]
    },
    {
      "cell_type": "code",
      "source": [
        "sabs = lambda theta, x, y: np.sum(np.abs(y - theta[0] - theta[1]*x))\n",
        "b0,b1 = fmin(sabs, [0,1], args=(x,y))\n",
        "print(b0,b1)\n",
        "plt.plot(x, y, 'ro')\n",
        "plt.plot([0,10], [b0, b0+b1*10])"
      ],
      "metadata": {
        "colab": {
          "base_uri": "https://localhost:8080/",
          "height": 373
        },
        "id": "PIKMSA2E1dlN",
        "outputId": "e4b9b9b5-3b48-4073-c497-879f08d1970d"
      },
      "execution_count": 61,
      "outputs": [
        {
          "output_type": "stream",
          "name": "stdout",
          "text": [
            "Optimization terminated successfully.\n",
            "         Current function value: 10.162463\n",
            "         Iterations: 39\n",
            "         Function evaluations: 77\n",
            "0.0015717044449411344 2.3123174318112456\n"
          ]
        },
        {
          "output_type": "execute_result",
          "data": {
            "text/plain": [
              "[<matplotlib.lines.Line2D at 0x7f6283ddd6d0>]"
            ]
          },
          "metadata": {},
          "execution_count": 61
        },
        {
          "output_type": "display_data",
          "data": {
            "text/plain": [
              "<Figure size 432x288 with 1 Axes>"
            ],
            "image/png": "[encoded data removed]"
          },
          "metadata": {
            "needs_background": "light"
          }
        }
      ]
    },
    {
      "cell_type": "markdown",
      "metadata": {
        "id": "BFOVzwPhvR72"
      },
      "source": [
        "We are not restricted to a straight-line regression model; we can represent a curved relationship between our variables by introducing **polynomial** terms. For example, a cubic model:\n",
        "\n",
        "<div style=\"font-size: 150%;\">  \n",
        "$y_i = \\beta_0 + \\beta_1 x_i + \\beta_2 x_i^2 + \\epsilon_i$\n",
        "</div>"
      ]
    },
    {
      "cell_type": "code",
      "execution_count": 63,
      "metadata": {
        "colab": {
          "base_uri": "https://localhost:8080/",
          "height": 373
        },
        "id": "bgB0Rd_0vR72",
        "outputId": "eda8fbac-180b-49c6-fe5f-1952f74bd361"
      },
      "outputs": [
        {
          "output_type": "stream",
          "name": "stdout",
          "text": [
            "Optimization terminated successfully.\n",
            "         Current function value: 14.001110\n",
            "         Iterations: 198\n",
            "         Function evaluations: 372\n",
            "-11.074818603916224 6.05769759480417 -0.3026810570883315\n"
          ]
        },
        {
          "output_type": "execute_result",
          "data": {
            "text/plain": [
              "[<matplotlib.lines.Line2D at 0x7f62bdee3f70>]"
            ]
          },
          "metadata": {},
          "execution_count": 63
        },
        {
          "output_type": "display_data",
          "data": {
            "text/plain": [
              "<Figure size 432x288 with 1 Axes>"
            ],
            "image/png": "[encoded data removed]"
          },
          "metadata": {
            "needs_background": "light"
          }
        }
      ],
      "source": [
        "ss2 = lambda theta, x, y: np.sum((y - theta[0] - theta[1]*x - theta[2]*(x**2)) ** 2)\n",
        "b0,b1,b2 = fmin(ss2, [1,1,-1], args=(x,y))\n",
        "print(b0,b1,b2)\n",
        "plt.plot(x, y, 'ro')\n",
        "xvals = np.linspace(0, 10, 100)\n",
        "plt.plot(xvals, b0 + b1*xvals + b2*(xvals**2))"
      ]
    },
    {
      "cell_type": "markdown",
      "metadata": {
        "id": "WN-BU2msvR72"
      },
      "source": [
        "Although polynomial model characterizes a nonlinear relationship, it is a linear problem in terms of estimation. That is, the regression model $f(y | x)$ is linear in the parameters.\n",
        "\n",
        "For some data, it may be reasonable to consider polynomials of order>2. For example, consider the relationship between the number of home runs a baseball player hits and the number of runs batted in (RBI) they accumulate; clearly, the relationship is positive, but we may not expect a linear relationship."
      ]
    },
    {
      "cell_type": "code",
      "execution_count": 66,
      "metadata": {
        "colab": {
          "base_uri": "https://localhost:8080/",
          "height": 355
        },
        "id": "NCQSR61kvR72",
        "outputId": "df5333d5-47db-4b20-8ff8-4b5c2aa6ed5f"
      },
      "outputs": [
        {
          "output_type": "stream",
          "name": "stdout",
          "text": [
            "Optimization terminated successfully.\n",
            "         Current function value: 4274.128398\n",
            "         Iterations: 230\n",
            "         Function evaluations: 407\n"
          ]
        },
        {
          "output_type": "execute_result",
          "data": {
            "text/plain": [
              "[<matplotlib.lines.Line2D at 0x7f62bde6e730>]"
            ]
          },
          "metadata": {},
          "execution_count": 66
        },
        {
          "output_type": "display_data",
          "data": {
            "text/plain": [
              "<Figure size 432x288 with 1 Axes>"
            ],
            "image/png": "[encoded data removed]"
          },
          "metadata": {
            "needs_background": "light"
          }
        }
      ],
      "source": [
        "ss3 = lambda theta, x, y: np.sum((y - theta[0] - theta[1]*x - theta[2]*(x**2) \n",
        "                                  - theta[3]*(x**3)) ** 2)\n",
        "\n",
        "bb = pd.read_csv(\"/content/drive/MyDrive/Colab Notebooks/Python MasterClass/scipy/baseball.csv\", index_col=0)\n",
        "plt.plot(bb.hr, bb.rbi, 'r.')\n",
        "b0,b1,b2,b3 = fmin(ss3, [0,1,-1,0], args=(bb.hr, bb.rbi))\n",
        "xvals = np.arange(40)\n",
        "plt.plot(xvals, b0 + b1*xvals + b2*(xvals**2) + b3*(xvals**3))"
      ]
    },
    {
      "cell_type": "markdown",
      "metadata": {
        "id": "zJsX66JGvR73"
      },
      "source": [
        "Of course, we need not fit least squares models by hand. The `statsmodels` package implements least squares models that allow for model fitting in a single line:"
      ]
    },
    {
      "cell_type": "code",
      "execution_count": 67,
      "metadata": {
        "colab": {
          "base_uri": "https://localhost:8080/",
          "height": 504
        },
        "id": "hamZlYa_vR73",
        "outputId": "f4f29196-95e9-4e88-c4e1-9c455c4f06be"
      },
      "outputs": [
        {
          "output_type": "stream",
          "name": "stderr",
          "text": [
            "/usr/local/lib/python3.8/dist-packages/statsmodels/stats/stattools.py:74: ValueWarning: omni_normtest is not valid with less than 8 observations; 6 samples were given.\n",
            "  warn(\"omni_normtest is not valid with less than 8 observations; %i \"\n"
          ]
        },
        {
          "output_type": "execute_result",
          "data": {
            "text/plain": [
              "<class 'statsmodels.iolib.summary.Summary'>\n",
              "\"\"\"\n",
              "                            OLS Regression Results                            \n",
              "==============================================================================\n",
              "Dep. Variable:                      y   R-squared:                       0.891\n",
              "Model:                            OLS   Adj. R-squared:                  0.864\n",
              "Method:                 Least Squares   F-statistic:                     32.67\n",
              "Date:                Mon, 06 Mar 2023   Prob (F-statistic):            0.00463\n",
              "Time:                        21:33:28   Log-Likelihood:                -12.325\n",
              "No. Observations:                   6   AIC:                             28.65\n",
              "Df Residuals:                       4   BIC:                             28.23\n",
              "Df Model:                           1                                         \n",
              "Covariance Type:            nonrobust                                         \n",
              "==============================================================================\n",
              "                 coef    std err          t      P>|t|      [0.025      0.975]\n",
              "------------------------------------------------------------------------------\n",
              "const         -4.3500      2.937     -1.481      0.213     -12.505       3.805\n",
              "x1             3.0000      0.525      5.716      0.005       1.543       4.457\n",
              "==============================================================================\n",
              "Omnibus:                          nan   Durbin-Watson:                   2.387\n",
              "Prob(Omnibus):                    nan   Jarque-Bera (JB):                0.570\n",
              "Skew:                           0.359   Prob(JB):                        0.752\n",
              "Kurtosis:                       1.671   Cond. No.                         17.9\n",
              "==============================================================================\n",
              "\n",
              "Notes:\n",
              "[1] Standard Errors assume that the covariance matrix of the errors is correctly specified.\n",
              "\"\"\""
            ],
            "text/html": [
              "<table class=\"simpletable\">\n",
              "<caption>OLS Regression Results</caption>\n",
              "<tr>\n",
              "  <th>Dep. Variable:</th>            <td>y</td>        <th>  R-squared:         </th> <td>   0.891</td>\n",
              "</tr>\n",
              "<tr>\n",
              "  <th>Model:</th>                   <td>OLS</td>       <th>  Adj. R-squared:    </th> <td>   0.864</td>\n",
              "</tr>\n",
              "<tr>\n",
              "  <th>Method:</th>             <td>Least Squares</td>  <th>  F-statistic:       </th> <td>   32.67</td>\n",
              "</tr>\n",
              "<tr>\n",
              "  <th>Date:</th>             <td>Mon, 06 Mar 2023</td> <th>  Prob (F-statistic):</th>  <td>0.00463</td>\n",
              "</tr>\n",
              "<tr>\n",
              "  <th>Time:</th>                 <td>21:33:28</td>     <th>  Log-Likelihood:    </th> <td> -12.325</td>\n",
              "</tr>\n",
              "<tr>\n",
              "  <th>No. Observations:</th>      <td>     6</td>      <th>  AIC:               </th> <td>   28.65</td>\n",
              "</tr>\n",
              "<tr>\n",
              "  <th>Df Residuals:</th>          <td>     4</td>      <th>  BIC:               </th> <td>   28.23</td>\n",
              "</tr>\n",
              "<tr>\n",
              "  <th>Df Model:</th>              <td>     1</td>      <th>                     </th>     <td> </td>   \n",
              "</tr>\n",
              "<tr>\n",
              "  <th>Covariance Type:</th>      <td>nonrobust</td>    <th>                     </th>     <td> </td>   \n",
              "</tr>\n",
              "</table>\n",
              "<table class=\"simpletable\">\n",
              "<tr>\n",
              "    <td></td>       <th>coef</th>     <th>std err</th>      <th>t</th>      <th>P>|t|</th>  <th>[0.025</th>    <th>0.975]</th>  \n",
              "</tr>\n",
              "<tr>\n",
              "  <th>const</th> <td>   -4.3500</td> <td>    2.937</td> <td>   -1.481</td> <td> 0.213</td> <td>  -12.505</td> <td>    3.805</td>\n",
              "</tr>\n",
              "<tr>\n",
              "  <th>x1</th>    <td>    3.0000</td> <td>    0.525</td> <td>    5.716</td> <td> 0.005</td> <td>    1.543</td> <td>    4.457</td>\n",
              "</tr>\n",
              "</table>\n",
              "<table class=\"simpletable\">\n",
              "<tr>\n",
              "  <th>Omnibus:</th>       <td>   nan</td> <th>  Durbin-Watson:     </th> <td>   2.387</td>\n",
              "</tr>\n",
              "<tr>\n",
              "  <th>Prob(Omnibus):</th> <td>   nan</td> <th>  Jarque-Bera (JB):  </th> <td>   0.570</td>\n",
              "</tr>\n",
              "<tr>\n",
              "  <th>Skew:</th>          <td> 0.359</td> <th>  Prob(JB):          </th> <td>   0.752</td>\n",
              "</tr>\n",
              "<tr>\n",
              "  <th>Kurtosis:</th>      <td> 1.671</td> <th>  Cond. No.          </th> <td>    17.9</td>\n",
              "</tr>\n",
              "</table><br/><br/>Notes:<br/>[1] Standard Errors assume that the covariance matrix of the errors is correctly specified."
            ]
          },
          "metadata": {},
          "execution_count": 67
        }
      ],
      "source": [
        "import statsmodels.api as sm\n",
        "\n",
        "straight_line = sm.OLS(y, sm.add_constant(x)).fit()\n",
        "straight_line.summary()"
      ]
    },
    {
      "cell_type": "code",
      "execution_count": 68,
      "metadata": {
        "colab": {
          "base_uri": "https://localhost:8080/",
          "height": 525
        },
        "id": "7FjS8kilvR73",
        "outputId": "ea153083-3832-46e7-f324-ef16c1b55cff"
      },
      "outputs": [
        {
          "output_type": "stream",
          "name": "stderr",
          "text": [
            "/usr/local/lib/python3.8/dist-packages/statsmodels/stats/stattools.py:74: ValueWarning: omni_normtest is not valid with less than 8 observations; 6 samples were given.\n",
            "  warn(\"omni_normtest is not valid with less than 8 observations; %i \"\n"
          ]
        },
        {
          "output_type": "execute_result",
          "data": {
            "text/plain": [
              "<class 'statsmodels.iolib.summary.Summary'>\n",
              "\"\"\"\n",
              "                            OLS Regression Results                            \n",
              "==============================================================================\n",
              "Dep. Variable:                      y   R-squared:                       0.929\n",
              "Model:                            OLS   Adj. R-squared:                  0.881\n",
              "Method:                 Least Squares   F-statistic:                     19.50\n",
              "Date:                Mon, 06 Mar 2023   Prob (F-statistic):             0.0191\n",
              "Time:                        21:33:33   Log-Likelihood:                -11.056\n",
              "No. Observations:                   6   AIC:                             28.11\n",
              "Df Residuals:                       3   BIC:                             27.49\n",
              "Df Model:                           2                                         \n",
              "Covariance Type:            nonrobust                                         \n",
              "==============================================================================\n",
              "                 coef    std err          t      P>|t|      [0.025      0.975]\n",
              "------------------------------------------------------------------------------\n",
              "Intercept    -11.0748      6.013     -1.842      0.163     -30.211       8.062\n",
              "x              6.0577      2.482      2.441      0.092      -1.840      13.955\n",
              "I(x ** 2)     -0.3027      0.241     -1.257      0.298      -1.069       0.464\n",
              "==============================================================================\n",
              "Omnibus:                          nan   Durbin-Watson:                   2.711\n",
              "Prob(Omnibus):                    nan   Jarque-Bera (JB):                0.655\n",
              "Skew:                          -0.809   Prob(JB):                        0.721\n",
              "Kurtosis:                       2.961   Cond. No.                         270.\n",
              "==============================================================================\n",
              "\n",
              "Notes:\n",
              "[1] Standard Errors assume that the covariance matrix of the errors is correctly specified.\n",
              "\"\"\""
            ],
            "text/html": [
              "<table class=\"simpletable\">\n",
              "<caption>OLS Regression Results</caption>\n",
              "<tr>\n",
              "  <th>Dep. Variable:</th>            <td>y</td>        <th>  R-squared:         </th> <td>   0.929</td>\n",
              "</tr>\n",
              "<tr>\n",
              "  <th>Model:</th>                   <td>OLS</td>       <th>  Adj. R-squared:    </th> <td>   0.881</td>\n",
              "</tr>\n",
              "<tr>\n",
              "  <th>Method:</th>             <td>Least Squares</td>  <th>  F-statistic:       </th> <td>   19.50</td>\n",
              "</tr>\n",
              "<tr>\n",
              "  <th>Date:</th>             <td>Mon, 06 Mar 2023</td> <th>  Prob (F-statistic):</th>  <td>0.0191</td> \n",
              "</tr>\n",
              "<tr>\n",
              "  <th>Time:</th>                 <td>21:33:33</td>     <th>  Log-Likelihood:    </th> <td> -11.056</td>\n",
              "</tr>\n",
              "<tr>\n",
              "  <th>No. Observations:</th>      <td>     6</td>      <th>  AIC:               </th> <td>   28.11</td>\n",
              "</tr>\n",
              "<tr>\n",
              "  <th>Df Residuals:</th>          <td>     3</td>      <th>  BIC:               </th> <td>   27.49</td>\n",
              "</tr>\n",
              "<tr>\n",
              "  <th>Df Model:</th>              <td>     2</td>      <th>                     </th>     <td> </td>   \n",
              "</tr>\n",
              "<tr>\n",
              "  <th>Covariance Type:</th>      <td>nonrobust</td>    <th>                     </th>     <td> </td>   \n",
              "</tr>\n",
              "</table>\n",
              "<table class=\"simpletable\">\n",
              "<tr>\n",
              "      <td></td>         <th>coef</th>     <th>std err</th>      <th>t</th>      <th>P>|t|</th>  <th>[0.025</th>    <th>0.975]</th>  \n",
              "</tr>\n",
              "<tr>\n",
              "  <th>Intercept</th> <td>  -11.0748</td> <td>    6.013</td> <td>   -1.842</td> <td> 0.163</td> <td>  -30.211</td> <td>    8.062</td>\n",
              "</tr>\n",
              "<tr>\n",
              "  <th>x</th>         <td>    6.0577</td> <td>    2.482</td> <td>    2.441</td> <td> 0.092</td> <td>   -1.840</td> <td>   13.955</td>\n",
              "</tr>\n",
              "<tr>\n",
              "  <th>I(x ** 2)</th> <td>   -0.3027</td> <td>    0.241</td> <td>   -1.257</td> <td> 0.298</td> <td>   -1.069</td> <td>    0.464</td>\n",
              "</tr>\n",
              "</table>\n",
              "<table class=\"simpletable\">\n",
              "<tr>\n",
              "  <th>Omnibus:</th>       <td>   nan</td> <th>  Durbin-Watson:     </th> <td>   2.711</td>\n",
              "</tr>\n",
              "<tr>\n",
              "  <th>Prob(Omnibus):</th> <td>   nan</td> <th>  Jarque-Bera (JB):  </th> <td>   0.655</td>\n",
              "</tr>\n",
              "<tr>\n",
              "  <th>Skew:</th>          <td>-0.809</td> <th>  Prob(JB):          </th> <td>   0.721</td>\n",
              "</tr>\n",
              "<tr>\n",
              "  <th>Kurtosis:</th>      <td> 2.961</td> <th>  Cond. No.          </th> <td>    270.</td>\n",
              "</tr>\n",
              "</table><br/><br/>Notes:<br/>[1] Standard Errors assume that the covariance matrix of the errors is correctly specified."
            ]
          },
          "metadata": {},
          "execution_count": 68
        }
      ],
      "source": [
        "from statsmodels.formula.api import ols as OLS\n",
        "\n",
        "data = pd.DataFrame(dict(x=x, y=y))\n",
        "cubic_fit = OLS('y ~ x + I(x**2)', data).fit()\n",
        "\n",
        "cubic_fit.summary()"
      ]
    },
    {
      "cell_type": "markdown",
      "metadata": {
        "id": "kTNmL9mYvR73"
      },
      "source": [
        "### Exercise: Polynomial function\n",
        "\n",
        "Write a function that specified a polynomial of arbitrary degree."
      ]
    },
    {
      "cell_type": "code",
      "execution_count": 69,
      "metadata": {
        "id": "G5L0u-WovR73"
      },
      "outputs": [],
      "source": [
        "# Write your answer here"
      ]
    },
    {
      "cell_type": "markdown",
      "metadata": {
        "id": "y7xEoaxevR73"
      },
      "source": [
        "## Model Selection\n",
        "\n",
        "How do we choose among competing models for a given dataset? More parameters are not necessarily better, from the standpoint of model fit. For example, fitting a 9-th order polynomial to the sample data from the above example certainly results in an overfit."
      ]
    },
    {
      "cell_type": "code",
      "execution_count": 70,
      "metadata": {
        "colab": {
          "base_uri": "https://localhost:8080/",
          "height": 355
        },
        "id": "OqM7ng-AvR73",
        "outputId": "f4a20230-8189-41d0-f193-ad7bfbcdaa22"
      },
      "outputs": [
        {
          "output_type": "stream",
          "name": "stdout",
          "text": [
            "Optimization terminated successfully.\n",
            "         Current function value: 7.015262\n",
            "         Iterations: 663\n",
            "         Function evaluations: 983\n"
          ]
        },
        {
          "output_type": "execute_result",
          "data": {
            "text/plain": [
              "[<matplotlib.lines.Line2D at 0x7f627cb3bee0>]"
            ]
          },
          "metadata": {},
          "execution_count": 70
        },
        {
          "output_type": "display_data",
          "data": {
            "text/plain": [
              "<Figure size 432x288 with 1 Axes>"
            ],
            "image/png": "[encoded data removed]"
          },
          "metadata": {
            "needs_background": "light"
          }
        }
      ],
      "source": [
        "def calc_poly(params, data):\n",
        "        x = np.c_[[data**i for i in range(len(params))]]\n",
        "        return np.dot(params, x)\n",
        "    \n",
        "ssp = lambda theta, x, y: np.sum((y - calc_poly(theta, x)) ** 2)\n",
        "betas = fmin(ssp, np.zeros(10), args=(x,y), maxiter=1e6)\n",
        "plt.plot(x, y, 'ro')\n",
        "xvals = np.linspace(0, max(x), 100)\n",
        "plt.plot(xvals, calc_poly(betas, xvals))"
      ]
    },
    {
      "cell_type": "markdown",
      "metadata": {
        "id": "0CqDzWwevR73"
      },
      "source": [
        "One approach is to use an information-theoretic criterion to select the most appropriate model. For example **Akaike's Information Criterion (AIC)** balances the fit of the model (in terms of the likelihood) with the number of parameters required to achieve that fit. We can easily calculate AIC as:\n",
        "\n",
        "$$AIC = n \\log(\\hat{\\sigma}^2) + 2p$$\n",
        "\n",
        "where $p$ is the number of parameters in the model and $\\hat{\\sigma}^2 = RSS/(n-p-1)$.\n",
        "\n",
        "Notice that as the number of parameters increase, the residual sum of squares goes down, but the second term (a penalty) increases.\n",
        "\n",
        "To apply AIC to model selection, we choose the model that has the **lowest** AIC value."
      ]
    },
    {
      "cell_type": "code",
      "source": [
        "n = len(x)\n",
        "\n",
        "aic = lambda rss, p, n: n * np.log(rss/(n-p-1)) + 2*p\n",
        "\n",
        "RSS1 = ss(fmin(ss, [0,1], args=(x,y)), x, y)\n",
        "RSS2 = ss2(fmin(ss2, [1,1,-1], args=(x,y)), x, y)\n",
        "\n",
        "print(aic(RSS1, 2, n), aic(RSS2, 3, n))\n"
      ],
      "metadata": {
        "colab": {
          "base_uri": "https://localhost:8080/"
        },
        "id": "t0ArXdjc2ZPD",
        "outputId": "31324ddb-002b-4029-d2e3-dddc0ca14e2a"
      },
      "execution_count": 72,
      "outputs": [
        {
          "output_type": "stream",
          "name": "stdout",
          "text": [
            "Optimization terminated successfully.\n",
            "         Current function value: 21.375000\n",
            "         Iterations: 79\n",
            "         Function evaluations: 153\n",
            "Optimization terminated successfully.\n",
            "         Current function value: 14.001110\n",
            "         Iterations: 198\n",
            "         Function evaluations: 372\n",
            "15.781658357173654 17.675936801895737\n"
          ]
        }
      ]
    },
    {
      "cell_type": "markdown",
      "metadata": {
        "id": "WX56p3MVvR74"
      },
      "source": [
        "Hence, we would select the 2-parameter (linear) model."
      ]
    },
    {
      "cell_type": "markdown",
      "metadata": {
        "id": "DmbS7NYSvR74"
      },
      "source": [
        "## Logistic Regression\n",
        "\n",
        "Fitting a line to the relationship between two variables using the least squares approach is sensible when the variable we are trying to predict is continuous, but what about when the data are dichotomous?\n",
        "\n",
        "- male/female\n",
        "- pass/fail\n",
        "- died/survived\n",
        "\n",
        "Let's consider the problem of predicting survival in the Titanic disaster, based on our available information. For example, lets say that we want to predict survival as a function of the fare paid for the journey."
      ]
    },
    {
      "cell_type": "code",
      "execution_count": 73,
      "metadata": {
        "colab": {
          "base_uri": "https://localhost:8080/"
        },
        "id": "bE231mGbvR74",
        "outputId": "a0efbc54-848b-4720-eb18-79fff486895f"
      },
      "outputs": [
        {
          "output_type": "execute_result",
          "data": {
            "text/plain": [
              "0                         Allen, Miss. Elisabeth Walton\n",
              "1                        Allison, Master. Hudson Trevor\n",
              "2                          Allison, Miss. Helen Loraine\n",
              "3                  Allison, Mr. Hudson Joshua Creighton\n",
              "4       Allison, Mrs. Hudson J C (Bessie Waldo Daniels)\n",
              "                             ...                       \n",
              "1304                               Zabour, Miss. Hileni\n",
              "1305                              Zabour, Miss. Thamine\n",
              "1306                          Zakarian, Mr. Mapriededer\n",
              "1307                                Zakarian, Mr. Ortin\n",
              "1308                                 Zimmerman, Mr. Leo\n",
              "Name: name, Length: 1309, dtype: object"
            ]
          },
          "metadata": {},
          "execution_count": 73
        }
      ],
      "source": [
        "titanic = pd.read_excel(\"/content/drive/MyDrive/Colab Notebooks/Python MasterClass/scipy/titanic.xls\", \"titanic\")\n",
        "titanic.name  "
      ]
    },
    {
      "cell_type": "code",
      "execution_count": 75,
      "metadata": {
        "colab": {
          "base_uri": "https://localhost:8080/",
          "height": 297
        },
        "id": "wCoz8NW8vR74",
        "outputId": "b07cfbe8-f86c-4254-b5b5-67b2d6c3278a"
      },
      "outputs": [
        {
          "output_type": "execute_result",
          "data": {
            "text/plain": [
              "Text(0.5, 0, 'log(fare)')"
            ]
          },
          "metadata": {},
          "execution_count": 75
        },
        {
          "output_type": "display_data",
          "data": {
            "text/plain": [
              "<Figure size 432x288 with 1 Axes>"
            ],
            "image/png": "[encoded data removed]"
          },
          "metadata": {
            "needs_background": "light"
          }
        }
      ],
      "source": [
        "jitter = np.random.normal(scale=0.02, size=len(titanic))\n",
        "plt.scatter(np.log(titanic.fare), titanic.survived + jitter, alpha=0.3)\n",
        "plt.yticks([0,1])\n",
        "plt.ylabel(\"survived\")\n",
        "plt.xlabel(\"log(fare)\")"
      ]
    },
    {
      "cell_type": "markdown",
      "metadata": {
        "id": "_DT24LAWvR74"
      },
      "source": [
        "I have added random jitter on the y-axis to help visualize the density of the points, and have plotted fare on the log scale.\n",
        "\n",
        "Clearly, fitting a line through this data makes little sense, for several reasons. First, for most values of the predictor variable, the line would predict values that are not zero or one. Second, it would seem odd to choose least squares (or similar) as a criterion for selecting the best line."
      ]
    },
    {
      "cell_type": "code",
      "execution_count": 76,
      "metadata": {
        "colab": {
          "base_uri": "https://localhost:8080/"
        },
        "id": "XckK3Th7vR74",
        "outputId": "b923a26c-91bb-419d-8dc2-7cdfdceef2f7"
      },
      "outputs": [
        {
          "output_type": "stream",
          "name": "stdout",
          "text": [
            "Optimization terminated successfully.\n",
            "         Current function value: 277.621917\n",
            "         Iterations: 55\n",
            "         Function evaluations: 103\n"
          ]
        }
      ],
      "source": [
        "x = np.log(titanic.fare[titanic.fare>0])\n",
        "y = titanic.survived[titanic.fare>0]\n",
        "betas_titanic = fmin(ss, [1,1], args=(x,y))"
      ]
    },
    {
      "cell_type": "code",
      "execution_count": 77,
      "metadata": {
        "colab": {
          "base_uri": "https://localhost:8080/",
          "height": 297
        },
        "id": "kjBcrVxdvR74",
        "outputId": "c24288a3-cce8-49eb-ea1a-c919ad083eb6"
      },
      "outputs": [
        {
          "output_type": "execute_result",
          "data": {
            "text/plain": [
              "[<matplotlib.lines.Line2D at 0x7f627c9982b0>]"
            ]
          },
          "metadata": {},
          "execution_count": 77
        },
        {
          "output_type": "display_data",
          "data": {
            "text/plain": [
              "<Figure size 432x288 with 1 Axes>"
            ],
            "image/png": "[encoded data removed]"
          },
          "metadata": {
            "needs_background": "light"
          }
        }
      ],
      "source": [
        "jitter = np.random.normal(scale=0.02, size=len(titanic))\n",
        "plt.scatter(np.log(titanic.fare), titanic.survived + jitter, alpha=0.3)\n",
        "plt.yticks([0,1])\n",
        "plt.ylabel(\"survived\")\n",
        "plt.xlabel(\"log(fare)\")\n",
        "plt.plot([0,7], [betas_titanic[0], betas_titanic[0] + betas_titanic[1]*7.])"
      ]
    },
    {
      "cell_type": "markdown",
      "metadata": {
        "id": "-5OEM0S-vR74"
      },
      "source": [
        "If we look at this data, we can see that for most values of `fare`, there are some individuals that survived and some that did not. However, notice that the cloud of points is denser on the \"survived\" (y=1) side for larger values of fare than on the \"died\" (y=0) side."
      ]
    },
    {
      "cell_type": "markdown",
      "metadata": {
        "id": "7hSlsuyOvR74"
      },
      "source": [
        "### Stochastic model\n",
        "\n",
        "Rather than model the binary outcome explicitly, it makes sense instead to model the *probability* of death or survival in a **stochastic** model. Probabilities are measured on a continuous [0,1] scale, which may be more amenable for prediction using a regression line. We need to consider a different probability model for this exerciese however; let's consider the **Bernoulli** distribution as a generative model for our data:\n",
        "\n",
        "<div style=\"font-size: 120%;\">  \n",
        "$$f(y|p) = p^{y} (1-p)^{1-y}$$ \n",
        "</div>  "
      ]
    },
    {
      "cell_type": "markdown",
      "metadata": {
        "id": "TMFlfz5DvR75"
      },
      "source": [
        "where $y = \\{0,1\\}$ and $p \\in [0,1]$. So, this model predicts whether $y$ is zero or one as a function of the probability $p$. Notice that when $y=1$, the $1-p$ term disappears, and when $y=0$, the $p$ term disappears.\n",
        "\n",
        "So, the model we want to fit should look something like this:\n",
        "\n",
        "<div style=\"font-size: 120%;\">  \n",
        "$$p_i = \\beta_0 + \\beta_1 x_i + \\epsilon_i$$\n",
        "</div>"
      ]
    },
    {
      "cell_type": "markdown",
      "metadata": {
        "id": "Tmg34t5ovR75"
      },
      "source": [
        "However, since $p$ is constrained to be between zero and one, it is easy to see where a linear (or polynomial) model might predict values outside of this range. We can modify this model sligtly by using a **link function** to transform the probability to have an unbounded range on a new scale. Specifically, we can use a **logit transformation** as our link function:\n",
        "\n",
        "<div style=\"font-size: 120%;\">  \n",
        "$$\\text{logit}(p) = \\log\\left[\\frac{p}{1-p}\\right] = x$$\n",
        "</div>"
      ]
    },
    {
      "cell_type": "markdown",
      "metadata": {
        "id": "M3riSD7vvR75"
      },
      "source": [
        "Here's a plot of $p/(1-p)$"
      ]
    },
    {
      "cell_type": "code",
      "execution_count": 78,
      "metadata": {
        "colab": {
          "base_uri": "https://localhost:8080/",
          "height": 319
        },
        "id": "JvewxEh6vR75",
        "outputId": "5f991664-2c71-434a-c2bb-662d8a1999f0"
      },
      "outputs": [
        {
          "output_type": "stream",
          "name": "stderr",
          "text": [
            "<ipython-input-78-250fbe5f1f25>:3: RuntimeWarning: divide by zero encountered in true_divide\n",
            "  plt.plot(unit_interval/(1-unit_interval), unit_interval)\n"
          ]
        },
        {
          "output_type": "execute_result",
          "data": {
            "text/plain": [
              "[<matplotlib.lines.Line2D at 0x7f627c8c3d00>]"
            ]
          },
          "metadata": {},
          "execution_count": 78
        },
        {
          "output_type": "display_data",
          "data": {
            "text/plain": [
              "<Figure size 432x288 with 1 Axes>"
            ],
            "image/png": "[encoded data removed]"
          },
          "metadata": {
            "needs_background": "light"
          }
        }
      ],
      "source": [
        "logit = lambda p: np.log(p/(1.-p))\n",
        "unit_interval = np.linspace(0,1)\n",
        "plt.plot(unit_interval/(1-unit_interval), unit_interval)"
      ]
    },
    {
      "cell_type": "markdown",
      "metadata": {
        "id": "hXfAmyfRvR75"
      },
      "source": [
        "And here's the logit function:"
      ]
    },
    {
      "cell_type": "code",
      "execution_count": 79,
      "metadata": {
        "colab": {
          "base_uri": "https://localhost:8080/",
          "height": 355
        },
        "id": "2cY6A5lxvR75",
        "outputId": "05327e08-9496-4806-ca44-90cf84e66742"
      },
      "outputs": [
        {
          "output_type": "stream",
          "name": "stderr",
          "text": [
            "<ipython-input-78-250fbe5f1f25>:1: RuntimeWarning: divide by zero encountered in true_divide\n",
            "  logit = lambda p: np.log(p/(1.-p))\n",
            "<ipython-input-78-250fbe5f1f25>:1: RuntimeWarning: divide by zero encountered in log\n",
            "  logit = lambda p: np.log(p/(1.-p))\n"
          ]
        },
        {
          "output_type": "execute_result",
          "data": {
            "text/plain": [
              "[<matplotlib.lines.Line2D at 0x7f627c829760>]"
            ]
          },
          "metadata": {},
          "execution_count": 79
        },
        {
          "output_type": "display_data",
          "data": {
            "text/plain": [
              "<Figure size 432x288 with 1 Axes>"
            ],
            "image/png": "[encoded data removed]"
          },
          "metadata": {
            "needs_background": "light"
          }
        }
      ],
      "source": [
        "plt.plot(logit(unit_interval), unit_interval)"
      ]
    },
    {
      "cell_type": "markdown",
      "metadata": {
        "id": "j82U_GCDvR75"
      },
      "source": [
        "The inverse of the logit transformation is:\n",
        "\n",
        "<div style=\"font-size: 150%;\">  \n",
        "$$p = \\frac{1}{1 + \\exp(-x)}$$\n",
        "</div>"
      ]
    },
    {
      "cell_type": "markdown",
      "metadata": {
        "id": "57ReDUvzvR75"
      },
      "source": [
        "So, now our model is:\n",
        "\n",
        "<div style=\"font-size: 120%;\">  \n",
        "$$\\text{logit}(p_i) = \\beta_0 + \\beta_1 x_i + \\epsilon_i$$\n",
        "</div>"
      ]
    },
    {
      "cell_type": "markdown",
      "metadata": {
        "id": "ehoc9vSAvR75"
      },
      "source": [
        "We can fit this model using maximum likelihood. Our likelihood, again based on the Bernoulli model is:\n",
        "\n",
        "<div style=\"font-size: 120%;\">  \n",
        "$$L(y|p) = \\prod_{i=1}^n p_i^{y_i} (1-p_i)^{1-y_i}$$\n",
        "</div>"
      ]
    },
    {
      "cell_type": "markdown",
      "metadata": {
        "id": "tzH6H64IvR75"
      },
      "source": [
        "which, on the log scale is:\n",
        "\n",
        "<div style=\"font-size: 120%;\">  \n",
        "$$l(y|p) = \\sum_{i=1}^n y_i \\log(p_i) + (1-y_i)\\log(1-p_i)$$\n",
        "</div>"
      ]
    },
    {
      "cell_type": "markdown",
      "metadata": {
        "id": "zVKvWp05vR76"
      },
      "source": [
        "We can easily implement this in Python, keeping in mind that `fmin` minimizes, rather than maximizes functions:"
      ]
    },
    {
      "cell_type": "code",
      "execution_count": 80,
      "metadata": {
        "id": "XfcQiP7VvR76"
      },
      "outputs": [],
      "source": [
        "invlogit = lambda x: 1. / (1 + np.exp(-x))\n",
        "\n",
        "def logistic_like(theta, x, y):\n",
        "    p = invlogit(theta[0] + theta[1] * x)\n",
        "    # Return negative of log-likelihood\n",
        "    return -np.sum(y * np.log(p) + (1-y) * np.log(1 - p))"
      ]
    },
    {
      "cell_type": "markdown",
      "metadata": {
        "id": "jz0yAY7BvR76"
      },
      "source": [
        "Remove null values from variables"
      ]
    },
    {
      "cell_type": "code",
      "execution_count": 81,
      "metadata": {
        "id": "UmAyRjFCvR76"
      },
      "outputs": [],
      "source": [
        "x, y = titanic[titanic.fare.notnull()][['fare', 'survived']].values.T"
      ]
    },
    {
      "cell_type": "markdown",
      "metadata": {
        "id": "Scu2qeh3vR76"
      },
      "source": [
        "... and fit the model."
      ]
    },
    {
      "cell_type": "code",
      "execution_count": 82,
      "metadata": {
        "colab": {
          "base_uri": "https://localhost:8080/"
        },
        "id": "MSHViFWxvR76",
        "outputId": "ad5f9db0-25a5-4743-b068-ec4a235eeedf"
      },
      "outputs": [
        {
          "output_type": "stream",
          "name": "stdout",
          "text": [
            "Optimization terminated successfully.\n",
            "         Current function value: 827.015955\n",
            "         Iterations: 47\n",
            "         Function evaluations: 93\n"
          ]
        },
        {
          "output_type": "execute_result",
          "data": {
            "text/plain": [
              "(-0.8823898452833819, 0.012452067664164127)"
            ]
          },
          "metadata": {},
          "execution_count": 82
        }
      ],
      "source": [
        "b0,b1 = fmin(logistic_like, [0.5,0], args=(x,y))\n",
        "b0, b1"
      ]
    },
    {
      "cell_type": "code",
      "execution_count": 83,
      "metadata": {
        "colab": {
          "base_uri": "https://localhost:8080/",
          "height": 283
        },
        "id": "wDDXJeVgvR76",
        "outputId": "b1cf11f8-3406-454e-c39d-9bac6c8ca575"
      },
      "outputs": [
        {
          "output_type": "execute_result",
          "data": {
            "text/plain": [
              "[<matplotlib.lines.Line2D at 0x7f627c7a5700>]"
            ]
          },
          "metadata": {},
          "execution_count": 83
        },
        {
          "output_type": "display_data",
          "data": {
            "text/plain": [
              "<Figure size 432x288 with 1 Axes>"
            ],
            "image/png": "[encoded data removed]"
          },
          "metadata": {
            "needs_background": "light"
          }
        }
      ],
      "source": [
        "jitter = np.random.normal(scale=0.01, size=len(x))\n",
        "plt.plot(x, y+jitter, 'r.', alpha=0.3)\n",
        "plt.yticks([0,.25,.5,.75,1])\n",
        "xvals = np.linspace(0, 600)\n",
        "plt.plot(xvals, invlogit(b0+b1*xvals))"
      ]
    },
    {
      "cell_type": "markdown",
      "metadata": {
        "id": "Ea-Xab66vR76"
      },
      "source": [
        "As with our least squares model, we can easily fit logistic regression models in `statsmodels`, in this case using the `GLM` (generalized linear model) class with a binomial error distribution specified."
      ]
    },
    {
      "cell_type": "code",
      "execution_count": 84,
      "metadata": {
        "colab": {
          "base_uri": "https://localhost:8080/",
          "height": 292
        },
        "id": "ewY8uRQgvR76",
        "outputId": "5e6a80cd-34ae-4759-a5b0-e4fb04563762"
      },
      "outputs": [
        {
          "output_type": "execute_result",
          "data": {
            "text/plain": [
              "<class 'statsmodels.iolib.summary.Summary'>\n",
              "\"\"\"\n",
              "                 Generalized Linear Model Regression Results                  \n",
              "==============================================================================\n",
              "Dep. Variable:                      y   No. Observations:                 1308\n",
              "Model:                            GLM   Df Residuals:                     1306\n",
              "Model Family:                Binomial   Df Model:                            1\n",
              "Link Function:                  Logit   Scale:                          1.0000\n",
              "Method:                          IRLS   Log-Likelihood:                -827.02\n",
              "Date:                Mon, 06 Mar 2023   Deviance:                       1654.0\n",
              "Time:                        21:36:18   Pearson chi2:                 1.33e+03\n",
              "No. Iterations:                     5   Pseudo R-squ. (CS):            0.06366\n",
              "Covariance Type:            nonrobust                                         \n",
              "==============================================================================\n",
              "                 coef    std err          z      P>|z|      [0.025      0.975]\n",
              "------------------------------------------------------------------------------\n",
              "const         -0.8824      0.076    -11.684      0.000      -1.030      -0.734\n",
              "x1             0.0125      0.002      7.762      0.000       0.009       0.016\n",
              "==============================================================================\n",
              "\"\"\""
            ],
            "text/html": [
              "<table class=\"simpletable\">\n",
              "<caption>Generalized Linear Model Regression Results</caption>\n",
              "<tr>\n",
              "  <th>Dep. Variable:</th>           <td>y</td>        <th>  No. Observations:  </th>  <td>  1308</td> \n",
              "</tr>\n",
              "<tr>\n",
              "  <th>Model:</th>                  <td>GLM</td>       <th>  Df Residuals:      </th>  <td>  1306</td> \n",
              "</tr>\n",
              "<tr>\n",
              "  <th>Model Family:</th>        <td>Binomial</td>     <th>  Df Model:          </th>  <td>     1</td> \n",
              "</tr>\n",
              "<tr>\n",
              "  <th>Link Function:</th>         <td>Logit</td>      <th>  Scale:             </th> <td>  1.0000</td>\n",
              "</tr>\n",
              "<tr>\n",
              "  <th>Method:</th>                <td>IRLS</td>       <th>  Log-Likelihood:    </th> <td> -827.02</td>\n",
              "</tr>\n",
              "<tr>\n",
              "  <th>Date:</th>            <td>Mon, 06 Mar 2023</td> <th>  Deviance:          </th> <td>  1654.0</td>\n",
              "</tr>\n",
              "<tr>\n",
              "  <th>Time:</th>                <td>21:36:18</td>     <th>  Pearson chi2:      </th> <td>1.33e+03</td>\n",
              "</tr>\n",
              "<tr>\n",
              "  <th>No. Iterations:</th>          <td>5</td>        <th>  Pseudo R-squ. (CS):</th>  <td>0.06366</td>\n",
              "</tr>\n",
              "<tr>\n",
              "  <th>Covariance Type:</th>     <td>nonrobust</td>    <th>                     </th>     <td> </td>   \n",
              "</tr>\n",
              "</table>\n",
              "<table class=\"simpletable\">\n",
              "<tr>\n",
              "    <td></td>       <th>coef</th>     <th>std err</th>      <th>z</th>      <th>P>|z|</th>  <th>[0.025</th>    <th>0.975]</th>  \n",
              "</tr>\n",
              "<tr>\n",
              "  <th>const</th> <td>   -0.8824</td> <td>    0.076</td> <td>  -11.684</td> <td> 0.000</td> <td>   -1.030</td> <td>   -0.734</td>\n",
              "</tr>\n",
              "<tr>\n",
              "  <th>x1</th>    <td>    0.0125</td> <td>    0.002</td> <td>    7.762</td> <td> 0.000</td> <td>    0.009</td> <td>    0.016</td>\n",
              "</tr>\n",
              "</table>"
            ]
          },
          "metadata": {},
          "execution_count": 84
        }
      ],
      "source": [
        "logistic = sm.GLM(y, sm.add_constant(x), family=sm.families.Binomial()).fit()\n",
        "logistic.summary()"
      ]
    },
    {
      "cell_type": "markdown",
      "metadata": {
        "id": "WxRRLPX4vR76"
      },
      "source": [
        "### Exercise: multivariate logistic regression\n",
        "\n",
        "Which other variables might be relevant for predicting the probability of surviving the Titanic? Generalize the model likelihood to include 2 or 3 other covariates from the dataset."
      ]
    },
    {
      "cell_type": "code",
      "execution_count": 85,
      "metadata": {
        "id": "LWJUA3PBvR77"
      },
      "outputs": [],
      "source": [
        "# Write your answer here"
      ]
    },
    {
      "cell_type": "markdown",
      "metadata": {
        "id": "n3ZQB0_FvR77"
      },
      "source": [
        "## Bootstrapping\n",
        "\n",
        "Parametric inference can be **non-robust**:\n",
        "\n",
        "* inaccurate if parametric assumptions are violated\n",
        "* if we rely on asymptotic results, we may not achieve an acceptable level of accuracy\n",
        "\n",
        "Parmetric inference can be **difficult**:\n",
        "\n",
        "* derivation of sampling distribution may not be possible\n",
        "\n",
        "An alternative is to estimate the sampling distribution of a statistic *empirically* without making assumptions about the form of the population.\n",
        "\n",
        "We have seen this already with the kernel density estimate."
      ]
    },
    {
      "cell_type": "markdown",
      "metadata": {
        "id": "fiLVX0V8vR77"
      },
      "source": [
        "### Non-parametric Bootstrap\n",
        "\n",
        "The bootstrap is a resampling method discovered by [Brad Efron](http://www.jstor.org/discover/10.2307/2958830?uid=3739568&uid=2&uid=4&uid=3739256&sid=21102342537691) that allows one to approximate the true sampling distribution of a dataset, and thereby obtain estimates of the mean and variance of the distribution.\n",
        "\n",
        "Bootstrap sample:\n",
        "\n",
        "<div style=\"font-size: 120%;\">  \n",
        "$$S_1^* = \\{x_{11}^*, x_{12}^*, \\ldots, x_{1n}^*\\}$$\n",
        "</div>"
      ]
    },
    {
      "cell_type": "markdown",
      "metadata": {
        "id": "1ZNrLWYcvR77"
      },
      "source": [
        "$S_i^*$ is a sample of size $n$, **with** replacement.\n",
        "\n",
        "In Python, we have already seen the NumPy function `permutation` that can be used in conjunction with Pandas' `take` method to generate a random sample of some data without replacement:"
      ]
    },
    {
      "cell_type": "code",
      "execution_count": 86,
      "metadata": {
        "colab": {
          "base_uri": "https://localhost:8080/"
        },
        "id": "L5slPW-vvR77",
        "outputId": "160ca154-ce81-4f42-ba58-fba6064069fa"
      },
      "outputs": [
        {
          "output_type": "execute_result",
          "data": {
            "text/plain": [
              "array(['Graham, Mr. George Edward', 'Brown, Miss. Amelia \"Mildred\"',\n",
              "       'Cunningham, Mr. Alfred Fleming', 'Sdycoff, Mr. Todor',\n",
              "       'Cavendish, Mrs. Tyrell William (Julia Florence Siegel)'],\n",
              "      dtype=object)"
            ]
          },
          "metadata": {},
          "execution_count": 86
        }
      ],
      "source": [
        "np.random.permutation(titanic.name)[:5]"
      ]
    },
    {
      "cell_type": "markdown",
      "metadata": {
        "id": "Jbbg5Q_jvR77"
      },
      "source": [
        "Similarly, we can use the `random.randint` method to generate a sample *with* replacement, which we can use when bootstrapping."
      ]
    },
    {
      "cell_type": "code",
      "execution_count": 87,
      "metadata": {
        "colab": {
          "base_uri": "https://localhost:8080/"
        },
        "id": "dE2LnHwuvR77",
        "outputId": "8ba58017-f8da-4571-9fa7-59407b119107"
      },
      "outputs": [
        {
          "output_type": "execute_result",
          "data": {
            "text/plain": [
              "942               Lahoud, Mr. Sarkis\n",
              "319        Wilson, Miss. Helen Alice\n",
              "292         Taylor, Mr. Elmer Zebley\n",
              "913    Karlsson, Mr. Einar Gervasius\n",
              "904               Jonkoff, Mr. Lalio\n",
              "Name: name, dtype: object"
            ]
          },
          "metadata": {},
          "execution_count": 87
        }
      ],
      "source": [
        "random_ind = np.random.randint(0, len(titanic), 5)\n",
        "titanic.name[random_ind]"
      ]
    },
    {
      "cell_type": "markdown",
      "metadata": {
        "id": "tAr8J9hjvR77"
      },
      "source": [
        "We regard S as an \"estimate\" of population P\n",
        "\n",
        "> population : sample :: sample : bootstrap sample\n",
        "\n",
        "The idea is to generate replicate bootstrap samples:\n",
        "\n",
        "<div style=\"font-size: 120%;\">  \n",
        "$$S^* = \\{S_1^*, S_2^*, \\ldots, S_R^*\\}$$\n",
        "</div>"
      ]
    },
    {
      "cell_type": "markdown",
      "metadata": {
        "id": "O0brXJh4vR77"
      },
      "source": [
        "Compute statistic $t$ (estimate) for each bootstrap sample:\n",
        "\n",
        "<div style=\"font-size: 120%;\">  \n",
        "$$T_i^* = t(S^*)$$\n",
        "</div>"
      ]
    },
    {
      "cell_type": "code",
      "execution_count": 88,
      "metadata": {
        "colab": {
          "base_uri": "https://localhost:8080/",
          "height": 265
        },
        "id": "bXZi51vJvR78",
        "outputId": "59658502-2ba3-40fc-9c37-197acca5d0ce"
      },
      "outputs": [
        {
          "output_type": "display_data",
          "data": {
            "text/plain": [
              "<Figure size 432x288 with 1 Axes>"
            ],
            "image/png": "[encoded data removed]"
          },
          "metadata": {
            "needs_background": "light"
          }
        }
      ],
      "source": [
        "n = 10\n",
        "R = 1000\n",
        "# Original sample (n=10)\n",
        "x = np.random.normal(size=n)\n",
        "# 1000 bootstrap samples of size 10\n",
        "s = [x[np.random.randint(0,n,n)].mean() for i in range(R)]\n",
        "_ = plt.hist(s, bins=30)"
      ]
    },
    {
      "cell_type": "markdown",
      "metadata": {
        "id": "jNNsDxhevR78"
      },
      "source": [
        "### Bootstrap Estimates\n",
        "\n",
        "From our bootstrapped samples, we can extract *estimates* of the expectation and its variance:\n",
        "\n",
        "$$\\bar{T}^* = \\hat{E}(T^*) = \\frac{\\sum_i T_i^*}{R}$$\n",
        "\n",
        "$$\\hat{\\text{Var}}(T^*) = \\frac{\\sum_i (T_i^* - \\bar{T}^*)^2}{R-1}$$\n"
      ]
    },
    {
      "cell_type": "code",
      "execution_count": 89,
      "metadata": {
        "colab": {
          "base_uri": "https://localhost:8080/"
        },
        "id": "F5f8GavgvR78",
        "outputId": "e0140254-2a4e-472d-d94c-1a86e4f8d7da"
      },
      "outputs": [
        {
          "output_type": "execute_result",
          "data": {
            "text/plain": [
              "0.6143824265402263"
            ]
          },
          "metadata": {},
          "execution_count": 89
        }
      ],
      "source": [
        "boot_mean = np.sum(s)/R\n",
        "boot_mean"
      ]
    },
    {
      "cell_type": "code",
      "execution_count": 90,
      "metadata": {
        "colab": {
          "base_uri": "https://localhost:8080/"
        },
        "id": "z6wt8UjFvR78",
        "outputId": "b20d6794-0411-4bdc-9253-5359abf323ef"
      },
      "outputs": [
        {
          "output_type": "execute_result",
          "data": {
            "text/plain": [
              "0.12445808900237898"
            ]
          },
          "metadata": {},
          "execution_count": 90
        }
      ],
      "source": [
        "boot_var = ((np.array(s) - boot_mean) ** 2).sum() / (R-1)\n",
        "boot_var"
      ]
    },
    {
      "cell_type": "markdown",
      "metadata": {
        "id": "K_SD_ytYvR78"
      },
      "source": [
        "Since we have estimated the expectation of the bootstrapped statistics, we can estimate the **bias** of T:\n",
        "\n",
        "$$\\hat{B}^* = \\bar{T}^* - T$$\n"
      ]
    },
    {
      "cell_type": "code",
      "execution_count": 91,
      "metadata": {
        "colab": {
          "base_uri": "https://localhost:8080/"
        },
        "id": "ewEwdjICvR78",
        "outputId": "a77c8c13-105c-4cc8-9ea9-87e1ce74fafd"
      },
      "outputs": [
        {
          "output_type": "execute_result",
          "data": {
            "text/plain": [
              "0.001797401512120933"
            ]
          },
          "metadata": {},
          "execution_count": 91
        }
      ],
      "source": [
        "boot_mean - np.mean(x)"
      ]
    },
    {
      "cell_type": "markdown",
      "metadata": {
        "id": "RNgPIqpAvR78"
      },
      "source": [
        "### Bootstrap error\n",
        "\n",
        "There are two sources of error in bootstrap estimates:\n",
        "\n",
        "1. **Sampling error** from the selection of $S$.\n",
        "2. **Bootstrap error** from failing to enumerate all possible bootstrap samples.\n",
        "\n",
        "For the sake of accuracy, it is prudent to choose at least R=1000"
      ]
    },
    {
      "cell_type": "markdown",
      "metadata": {
        "id": "yMaQws7mvR78"
      },
      "source": [
        "### Bootstrap Percentile Intervals\n",
        "\n",
        "An attractive feature of bootstrap statistics is the ease with which you can obtain an estimate of *uncertainty* for a given statistic. We simply use the empirical quantiles of the bootstrapped statistics to obtain percentiles corresponding to a confidence interval of interest.\n",
        "\n",
        "This employs the *ordered* bootstrap replicates:\n",
        "\n",
        "$$T_{(1)}^*, T_{(2)}^*, \\ldots, T_{(R)}^*$$\n",
        "\n",
        "Simply extract the $100(\\alpha/2)$ and $100(1-\\alpha/2)$ percentiles:\n",
        "\n",
        "$$T_{[(R+1)\\alpha/2]}^* \\lt \\theta \\lt T_{[(R+1)(1-\\alpha/2)]}^*$$"
      ]
    },
    {
      "cell_type": "code",
      "execution_count": 92,
      "metadata": {
        "colab": {
          "base_uri": "https://localhost:8080/"
        },
        "id": "17K4CR53vR79",
        "outputId": "12b69154-9369-4e17-9451-6f85cadc53f0"
      },
      "outputs": [
        {
          "output_type": "execute_result",
          "data": {
            "text/plain": [
              "array([-0.2427864 , -0.19196691, -0.17098886, -0.12990341, -0.12886457,\n",
              "       -0.11900288, -0.11475173, -0.1133497 , -0.11186168, -0.11080448])"
            ]
          },
          "metadata": {},
          "execution_count": 92
        }
      ],
      "source": [
        "s_sorted = np.sort(s)\n",
        "s_sorted[:10]"
      ]
    },
    {
      "cell_type": "code",
      "execution_count": 93,
      "metadata": {
        "colab": {
          "base_uri": "https://localhost:8080/"
        },
        "id": "0knbM60JvR79",
        "outputId": "31fb6162-4b10-45c6-87cf-1e067d7b6be8"
      },
      "outputs": [
        {
          "output_type": "execute_result",
          "data": {
            "text/plain": [
              "array([1.5277268 , 1.56312433, 1.5639507 , 1.58568749, 1.62358166,\n",
              "       1.63696124, 1.67147767, 1.70597356, 1.80302502, 1.83564179])"
            ]
          },
          "metadata": {},
          "execution_count": 93
        }
      ],
      "source": [
        "s_sorted[-10:]"
      ]
    },
    {
      "cell_type": "code",
      "source": [
        "alpha = 0.05\n",
        "s_sorted[[int((R+1)*alpha/2), int((R+1)*(1-alpha/2))]]"
      ],
      "metadata": {
        "colab": {
          "base_uri": "https://localhost:8080/"
        },
        "id": "IPPjghRn225h",
        "outputId": "558fb78b-0458-4d8d-d750-e8abea40d98e"
      },
      "execution_count": 95,
      "outputs": [
        {
          "output_type": "execute_result",
          "data": {
            "text/plain": [
              "array([-0.00794513,  1.35083704])"
            ]
          },
          "metadata": {},
          "execution_count": 95
        }
      ]
    },
    {
      "cell_type": "markdown",
      "metadata": {
        "id": "OuJojVhhvR79"
      },
      "source": [
        "### Exercise: Cervical dystonia bootstrap estimates\n",
        "\n",
        "Use bootstrapping to estimate the mean of one of the treatment groups, and calculate percentile intervals for the mean."
      ]
    },
    {
      "cell_type": "code",
      "execution_count": 96,
      "metadata": {
        "id": "W8a5uxSHvR79"
      },
      "outputs": [],
      "source": [
        "# Write your answer here"
      ]
    }
  ],
  "metadata": {
    "kernelspec": {
      "display_name": "Python 3",
      "language": "python",
      "name": "python3"
    },
    "language_info": {
      "codemirror_mode": {
        "name": "ipython",
        "version": 3
      },
      "file_extension": ".py",
      "mimetype": "text/x-python",
      "name": "python",
      "nbconvert_exporter": "python",
      "pygments_lexer": "ipython3",
      "version": "3.8.8"
    },
    "varInspector": {
      "cols": {
        "lenName": 16,
        "lenType": 16,
        "lenVar": 40
      },
      "kernels_config": {
        "python": {
          "delete_cmd_postfix": "",
          "delete_cmd_prefix": "del ",
          "library": "var_list.py",
          "varRefreshCmd": "print(var_dic_list())"
        },
        "r": {
          "delete_cmd_postfix": ") ",
          "delete_cmd_prefix": "rm(",
          "library": "var_list.r",
          "varRefreshCmd": "cat(var_dic_list()) "
        }
      },
      "types_to_exclude": [
        "module",
        "function",
        "builtin_function_or_method",
        "instance",
        "_Feature"
      ],
      "window_display": false
    },
    "colab": {
      "provenance": []
    }
  },
  "nbformat": 4,
  "nbformat_minor": 0
}